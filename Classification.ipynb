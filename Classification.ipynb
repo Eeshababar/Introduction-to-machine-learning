{
  "cells": [
    {
      "cell_type": "code",
      "execution_count": null,
      "metadata": {
        "colab": {
          "base_uri": "https://localhost:8080/"
        },
        "id": "XgCXbkNvIRO4",
        "outputId": "6983a3e0-5f85-43f1-b7ec-607dc22ebbb3"
      },
      "outputs": [
        {
          "output_type": "stream",
          "name": "stdout",
          "text": [
            "Drive already mounted at /content/drive; to attempt to forcibly remount, call drive.mount(\"/content/drive\", force_remount=True).\n"
          ]
        }
      ],
      "source": [
        "from google.colab import drive\n",
        "drive.mount('/content/drive')\n",
        "\n"
      ]
    },
    {
      "cell_type": "code",
      "execution_count": null,
      "metadata": {
        "id": "mXjZnHYVIs4a"
      },
      "outputs": [],
      "source": [
        "import sys\n",
        "sys.path.append('/content/drive/MyDrive/HW4/HW4(3)/HW4')\n",
        "\n",
        "import mltools\n"
      ]
    },
    {
      "cell_type": "markdown",
      "metadata": {
        "id": "kUekZbTbbc20"
      },
      "source": [
        "# Problem1 Linear Classifier"
      ]
    },
    {
      "cell_type": "markdown",
      "metadata": {
        "id": "H4-YGLAidT-v"
      },
      "source": [
        "Q1.1"
      ]
    },
    {
      "cell_type": "code",
      "execution_count": null,
      "metadata": {
        "colab": {
          "base_uri": "https://localhost:8080/"
        },
        "id": "IYZaMQtYJVBV",
        "outputId": "f07e291c-1c10-434c-a80b-bb7e35b1530a"
      },
      "outputs": [
        {
          "output_type": "stream",
          "name": "stdout",
          "text": [
            "for the feature 0 :max: 253.0 min: 193.5 mean: 241.6011037 variance: 83.4991711498463\n",
            "for the feature 1 :max: 249.0 min: 152.5 mean: 227.37657130000002 variance: 92.62559312501628\n",
            "for the feature 2 :max: 252.5 min: 214.25 mean: 241.55415049999996 variance: 35.28633980334975\n",
            "for the feature 3 :max: 252.5 min: 152.5 mean: 232.82676815000005 variance: 97.6257317486456\n",
            "for the feature 4 :max: 31048.0 min: 10.0 mean: 3089.923365 variance: 15651513.756432075\n",
            "for the feature 5 :max: 13630.0 min: 0.0 mean: 928.25902 variance: 3081761.8169486397\n",
            "for the feature 6 :max: 9238.0 min: 0.0 mean: 138.09383 variance: 443951.7464459313\n",
            "for the feature 7 :max: 125.17 min: 0.0 mean: 3.2485793303000015 variance: 8.2194850249125\n",
            "for the feature 8 :max: 19.167 min: 0.87589 mean: 6.498652902749999 variance: 6.40504819135735\n",
            "for the feature 9 :max: 13.23 min: 0.0 mean: 2.09713912048 variance: 4.36344047061341\n",
            "for the feature 10 :max: 66.761 min: 0.0 mean: 4.21766040935 variance: 4.086371884226908\n",
            "for the feature 11 :max: 73.902 min: 0.0 mean: 2.69171845215 variance: 2.198778474358265\n",
            "for the feature 12 :max: 975.04 min: 0.99049 mean: 10.271590475899998 variance: 404.6462450411812\n",
            "for the feature 13 :max: 797.2 min: -999.9 mean: 5.781480500000001 variance: 3406.52055097812\n"
          ]
        }
      ],
      "source": [
        "#Q1.1\n",
        "\n",
        "import numpy as np\n",
        "import mltools as ml\n",
        "import numpy as np\n",
        "import matplotlib.pyplot as plt\n",
        "np.random.seed(0)\n",
        "%matplotlib inline\n",
        "import mltools as ml\n",
        "#from logisticClassify2 import *\n",
        "X = np.genfromtxt('/content/drive/MyDrive/HW4/X_train.txt',delimiter=None)\n",
        "Y = np.genfromtxt('/content/drive/MyDrive/HW4/Y_train.txt',delimiter=None)\n",
        "X,Y = ml.shuffleData(X,Y)  \n",
        "Xtr, Xva, Ytr, Yva = ml.splitData(X, Y)\n",
        "Xt, Yt = Xtr[:5000], Ytr[:5000] # subsample for efficiency (you can go higher)\n",
        "XtS, params = ml.rescale(Xt) # Normalize the features\n",
        "XvS,_ = ml.rescale(Xva, params) # Normalize the features\n",
        "\n",
        "\n",
        "for i in range(X.shape[1]):\n",
        "    print (\"for the feature\", i,\":\" \"max:\", np.max(X[:,i]), \"min:\", np.min(X[:,i]), \"mean:\", np.mean(X[:,i]),\"variance:\" , np.var(X[:,i]))"
      ]
    },
    {
      "cell_type": "markdown",
      "metadata": {
        "id": "ZAqblFr5dWwY"
      },
      "source": [
        "Q1.2"
      ]
    },
    {
      "cell_type": "code",
      "execution_count": null,
      "metadata": {
        "colab": {
          "base_uri": "https://localhost:8080/"
        },
        "id": "3hXbXA3FJXaI",
        "outputId": "0e22bf12-9a7b-459e-d8a5-8035b349de3e"
      },
      "outputs": [
        {
          "output_type": "stream",
          "name": "stdout",
          "text": [
            "for the feature 0 : max: 1.2446776414093952 min: -4.422165731512143 mean: 1.0618350643198937e-14 variance: 0.9999999999999918\n",
            "for the feature 1 : max: 1.8142505916980844 min: -3.837995400836122 mean: 8.15703060652595e-16 variance: 0.9999999999999974\n",
            "for the feature 2 : max: 1.8066817941254465 min: -4.599184593067695 mean: -3.058886477447231e-14 variance: 0.9999999999999997\n",
            "for the feature 3 : max: 1.9544977425417718 min: -2.910816429908188 mean: -1.1679901490424526e-14 variance: 1.0000000000000009\n",
            "for the feature 4 : max: 7.300953888425734 min: -0.7795113781142542 mean: -3.1974423109204506e-17 variance: 1.0000000000000009\n",
            "for the feature 5 : max: 7.373421397063304 min: -0.5162351009819977 mean: 7.105427357601002e-18 variance: 1.0000000000000244\n",
            "for the feature 6 : max: 13.767196827061854 min: -0.20010710502010892 mean: -4.263256414560601e-18 variance: 0.9999999999999484\n",
            "for the feature 7 : max: 7.353078467636559 min: -1.1381986913324114 mean: 1.581668129801983e-15 variance: 1.0000000000000004\n",
            "for the feature 8 : max: 4.726589902128516 min: -2.1005892848226817 mean: -1.8900436771218666e-15 variance: 1.0000000000000022\n",
            "for the feature 9 : max: 5.432144742570911 min: -0.9895913731224477 mean: -1.8900436771218666e-15 variance: 0.9999999999999982\n",
            "for the feature 10 : max: 7.417399913270711 min: -2.1053692164096467 mean: 1.3642420526593924e-15 variance: 1.0000000000000004\n",
            "for the feature 11 : max: 6.112879769015834 min: -1.9498143483595054 mean: 3.182520913469489e-15 variance: 1.0000000000000004\n",
            "for the feature 12 : max: 37.41876648085912 min: -0.3759977761619259 mean: -2.0889956431346945e-16 variance: 0.9999999999999527\n",
            "for the feature 13 : max: 12.784747661515619 min: -16.304214604124 mean: -1.3145040611561854e-17 variance: 1.000000000000014\n"
          ]
        }
      ],
      "source": [
        "#Q1.2 parta, training data statistics\n",
        "for i in range(XtS.shape[1]):\n",
        "    print (\"for the feature\", i ,\":\", \"max:\", np.max(XtS[:,i]), \"min:\" , np.min(XtS[:,i]), \"mean:\", np.mean(XtS[:,i]), \"variance:\", np.var(XtS[:,i]))"
      ]
    },
    {
      "cell_type": "code",
      "source": [
        "#Q1.2 partb validation data statistics\n",
        "for i in range(XvS.shape[1]):\n",
        "    print (\"for the feature\", i ,\":\", \"max:\", np.max(XvS[:,i]), \"min:\" , np.min(XvS[:,i]), \"mean:\", np.mean(XvS[:,i]), \"variance:\", np.var(XvS[:,i]))"
      ],
      "metadata": {
        "colab": {
          "base_uri": "https://localhost:8080/"
        },
        "id": "cutSDJl38Jtk",
        "outputId": "9a6ba73d-43ab-4867-b725-dc56e25429c2"
      },
      "execution_count": null,
      "outputs": [
        {
          "output_type": "stream",
          "name": "stdout",
          "text": [
            "for the feature 0 : max: 1.2446776414093952 min: -5.168530468433516 mean: -0.010605234762597199 variance: 1.010243790094506\n",
            "for the feature 1 : max: 2.2329354800339516 min: -3.942666622920089 mean: -0.0205066101389685 variance: 1.0035701126977175\n",
            "for the feature 2 : max: 1.8268418771693282 min: -4.47822409480441 mean: -0.0021482668492211277 variance: 0.9867310394368134\n",
            "for the feature 3 : max: 1.9666711724978607 min: -2.910816429908188 mean: -0.019672896841860597 variance: 0.99491918642819\n",
            "for the feature 4 : max: 7.300953888425734 min: -0.7795113781142542 mean: 0.022502187467474805 variance: 1.0800081408501048\n",
            "for the feature 5 : max: 7.373421397063304 min: -0.5162351009819977 mean: 0.021938165246534646 variance: 1.0709309124427384\n",
            "for the feature 6 : max: 13.767196827061854 min: -0.20010710502010892 mean: 0.006306302738765279 variance: 1.0126888858097438\n",
            "for the feature 7 : max: 8.790053232519085 min: -1.1381986913324114 mean: -0.013491928066917354 variance: 0.9837464006045582\n",
            "for the feature 8 : max: 4.63570002556036 min: -2.2033107213056704 mean: 0.020022240751002205 variance: 0.997988030776948\n",
            "for the feature 9 : max: 5.432144742570911 min: -0.9895913731224477 mean: 0.018968509588908056 variance: 1.0120897384237306\n",
            "for the feature 10 : max: 31.185178506614402 min: -2.1053692164096467 mean: 0.0014538869193942978 variance: 1.0461665175372499\n",
            "for the feature 11 : max: 51.87577017397765 min: -1.9498143483595054 mean: 0.007575086849293567 variance: 1.173569622000658\n",
            "for the feature 12 : max: 37.41876648085912 min: -0.37803148200633807 mean: -0.017673476056313503 variance: 0.5385047612360558\n",
            "for the feature 13 : max: 12.846387128760046 min: -16.304214604124 mean: 0.0101150771270915 variance: 0.8656910721915029\n"
          ]
        }
      ]
    },
    {
      "cell_type": "markdown",
      "metadata": {
        "id": "tNALIFvKdYja"
      },
      "source": [
        "Q1.3"
      ]
    },
    {
      "cell_type": "code",
      "execution_count": null,
      "metadata": {
        "colab": {
          "base_uri": "https://localhost:8080/",
          "height": 356
        },
        "id": "yKQNmfLVNa62",
        "outputId": "ff6e8ae1-cd09-429f-8dfd-a2f729d43eff"
      },
      "outputs": [
        {
          "output_type": "stream",
          "name": "stdout",
          "text": [
            "[0.6506352539536249, 0.6476433022552712, 0.6447713299183154, 0.6435087668327547, 0.6307913132072887, 0.6034812128281432, 0.5461230077193896]\n",
            "[0.6355942577876134, 0.6357337799874625, 0.6359411681967444, 0.6359500324197234, 0.6270736992821733, 0.6013363664605533, 0.5466684593831981]\n"
          ]
        },
        {
          "output_type": "execute_result",
          "data": {
            "text/plain": [
              "<matplotlib.legend.Legend at 0x7fcc1b2510d0>"
            ]
          },
          "metadata": {},
          "execution_count": 9
        },
        {
          "output_type": "display_data",
          "data": {
            "image/png": "[encoded data removed]",
            "text/plain": [
              "<Figure size 432x288 with 1 Axes>"
            ]
          },
          "metadata": {
            "needs_background": "light"
          }
        }
      ],
      "source": [
        "#Q1.3\n",
        "\n",
        "auct = []\n",
        "aucv = []\n",
        "a = [0.0, 0.01, 0.05, 0.1, 0.5, 1.0, 2.0]\n",
        "for i in a:\n",
        "    learner = ml.linearC.linearClassify()\n",
        "    learner.train(XtS, Yt, reg=i, initStep=0.5, stopTol=1e-6, stopIter=100)\n",
        "    auct.append(learner.auc(XtS, Yt))\n",
        "    aucv.append(learner.auc(XvS, Yva))\n",
        "    \n",
        "print(auct)\n",
        "print(aucv)\n",
        "plt.plot(a, auct, 'r-', lw=3, label=\"Training AUC\")\n",
        "plt.plot(a, aucv, 'b-', lw=3, label=\"Validation AUC\")\n",
        "plt.title(\"Training and validation AUC\")\n",
        "plt.legend()"
      ]
    },
    {
      "cell_type": "code",
      "source": [
        "print(\"Max AUC from Linear Classifier is : \", max(aucv))"
      ],
      "metadata": {
        "colab": {
          "base_uri": "https://localhost:8080/"
        },
        "id": "U-AdvvKOoKin",
        "outputId": "815e7c5f-5698-42db-a44e-a4dae2cd0b01"
      },
      "execution_count": null,
      "outputs": [
        {
          "output_type": "stream",
          "name": "stdout",
          "text": [
            "Max AUC from Linear Classifier is :  0.6359500324197234\n"
          ]
        }
      ]
    },
    {
      "cell_type": "markdown",
      "metadata": {
        "id": "SOwtgQRbdadq"
      },
      "source": [
        "Q1.4"
      ]
    },
    {
      "cell_type": "code",
      "execution_count": null,
      "metadata": {
        "colab": {
          "base_uri": "https://localhost:8080/"
        },
        "id": "5bZjqlwINkpW",
        "outputId": "f545a27b-2ebe-4f75-b9cf-f133907f8cd8"
      },
      "outputs": [
        {
          "output_type": "stream",
          "name": "stdout",
          "text": [
            "(5000, 119)\n",
            "(5000, 14)\n"
          ]
        }
      ],
      "source": [
        "#Q1.4\n",
        "\n",
        "degree = 2\n",
        "XtrP = mltools.transforms.fpoly(Xt,degree, bias=False) \n",
        "XtrP,params = ml.transforms.rescale(XtrP) #rescalling and getting params\n",
        "XvaP,_ = ml.transforms.rescale( ml.transforms.fpoly(Xva,degree,False), params)#usin\n",
        "\n",
        "\n",
        "print(XtrP.shape)\n",
        "print(Xt.shape)\n",
        "\n"
      ]
    },
    {
      "cell_type": "markdown",
      "source": [
        "The features are 119 after transformation. So 119-14 = 105, the 14 are original features, the x^2 after transformation is again 14 hence 105-19 = 105 and lastly the possible combination of features are n(n-1)/2 where n is 14 here so 14(13)/2 that explains remaining 91 features"
      ],
      "metadata": {
        "id": "j5xAXLb6TFfQ"
      }
    },
    {
      "cell_type": "markdown",
      "source": [
        "Q1.5"
      ],
      "metadata": {
        "id": "1E60OSlmThpV"
      }
    },
    {
      "cell_type": "code",
      "execution_count": null,
      "metadata": {
        "colab": {
          "base_uri": "https://localhost:8080/",
          "height": 521
        },
        "id": "o929KMtMOkVX",
        "outputId": "c02c434f-53a4-4183-fd3e-2c5d88b4e2dc"
      },
      "outputs": [
        {
          "output_type": "stream",
          "name": "stderr",
          "text": [
            "/content/drive/MyDrive/HW4/HW4(3)/HW4/mltools/linearC.py:122: RuntimeWarning: overflow encountered in exp\n",
            "  sigx  = np.exp(respi) / (1.0+np.exp(respi))\n",
            "/content/drive/MyDrive/HW4/HW4(3)/HW4/mltools/linearC.py:122: RuntimeWarning: invalid value encountered in true_divide\n",
            "  sigx  = np.exp(respi) / (1.0+np.exp(respi))\n",
            "/content/drive/MyDrive/HW4/HW4(3)/HW4/mltools/base.py:96: RuntimeWarning: divide by zero encountered in log\n",
            "  return - np.mean( np.log( P[ np.arange(M), Y ] ) ) # evaluate\n",
            "/content/drive/MyDrive/HW4/HW4(3)/HW4/mltools/linearC.py:134: RuntimeWarning: invalid value encountered in double_scalars\n",
            "  done = (it > stopIter) or ( (it>1) and (abs(Jsur[-1]-Jsur[-2])<stopTol) )\n"
          ]
        },
        {
          "output_type": "stream",
          "name": "stdout",
          "text": [
            "[0.5014819872240811, 0.5014819872240811, 0.5014819872240811, 0.5310685569962046, 0.4970830129848516, 0.47740801178774805, 0.4542830210910805]\n",
            "[0.496608776034008, 0.496608776034008, 0.496608776034008, 0.5272864925463104, 0.49699323658670297, 0.4794479194468537, 0.4594619015863822]\n",
            "Max AUC from Linear Classifier after transformation is :  0.5272864925463104\n"
          ]
        },
        {
          "output_type": "execute_result",
          "data": {
            "text/plain": [
              "<matplotlib.legend.Legend at 0x7fcc1b3e5410>"
            ]
          },
          "metadata": {},
          "execution_count": 13
        },
        {
          "output_type": "display_data",
          "data": {
            "image/png": "[encoded data removed]",
            "text/plain": [
              "<Figure size 432x288 with 1 Axes>"
            ]
          },
          "metadata": {
            "needs_background": "light"
          }
        }
      ],
      "source": [
        "#Q1.5\n",
        "\n",
        "auct = []\n",
        "aucv = []\n",
        "a = [0.0, 0.01, 0.05, 0.1, 0.5, 1.0, 2.0]\n",
        "for i in a:\n",
        "    learner = ml.linearC.linearClassify()\n",
        "    learner.train(XtrP, Yt, reg=i, initStep=0.5, stopTol=1e-6, stopIter=100)\n",
        "    learner.auc(XtrP, Yt) # train AUC\n",
        "    auct.append(learner.auc(XtrP, Yt))\n",
        "    aucv.append(learner.auc(XvaP, Yva))\n",
        "    \n",
        "print(auct)\n",
        "print(aucv)\n",
        "print(\"Max AUC from Linear Classifier after transformation is : \", max(aucv))\n",
        "plt.plot(a, auct, 'r-', lw=3, label=\"Training AUC\")\n",
        "plt.plot(a, aucv, 'b-', lw=3, label=\"Validation AUC\")\n",
        "plt.title(\"Training and validation AUC\")\n",
        "plt.legend()\n"
      ]
    },
    {
      "cell_type": "markdown",
      "source": [
        "Hence the maximum value of AUC from linear classifier is 0.6359500324197234"
      ],
      "metadata": {
        "id": "no00ctUFG8VK"
      }
    },
    {
      "cell_type": "markdown",
      "metadata": {
        "id": "fObxY7uPdtu0"
      },
      "source": [
        "# Problem 2 KNN"
      ]
    },
    {
      "cell_type": "markdown",
      "metadata": {
        "id": "ko1GbnsOd5oK"
      },
      "source": [
        "Q2.1"
      ]
    },
    {
      "cell_type": "code",
      "execution_count": null,
      "metadata": {
        "colab": {
          "base_uri": "https://localhost:8080/",
          "height": 354
        },
        "id": "Q0b4B9TOPYlO",
        "outputId": "dd9636b1-3265-41ed-e879-96cfc07062d7"
      },
      "outputs": [
        {
          "output_type": "stream",
          "name": "stdout",
          "text": [
            "[0.9962659338061848, 0.7722311982566586, 0.7335179473163271, 0.6978440838607315, 0.683472116635004]\n",
            "[0.5703389127365142, 0.6345985496121684, 0.6465092840622756, 0.6527943795891822, 0.6530353240178834]\n",
            "Max AUC from KNN using alpha=0 is :  0.6530353240178834\n"
          ]
        },
        {
          "output_type": "execute_result",
          "data": {
            "text/plain": [
              "<matplotlib.legend.Legend at 0x7fcc1b37aa10>"
            ]
          },
          "metadata": {},
          "execution_count": 14
        },
        {
          "output_type": "display_data",
          "data": {
            "image/png": "[encoded data removed]",
            "text/plain": [
              "<Figure size 432x288 with 1 Axes>"
            ]
          },
          "metadata": {
            "needs_background": "light"
          }
        }
      ],
      "source": [
        "auctkT = []\n",
        "auckV = []\n",
        "K = [1, 10, 20, 50, 100]\n",
        "for k in K:\n",
        "    learner = ml.knn.knnClassify()\n",
        "    learner.train(XtS, Yt, K=k, alpha=0.0)\n",
        "    auctkT.append(learner.auc(XtS, Yt))\n",
        "    auckV.append(learner.auc(XvS, Yva))\n",
        "    \n",
        "print(auctkT)\n",
        "print(auckV)\n",
        "print(\"Max AUC from KNN using alpha=0 is : \", max(auckV))\n",
        "plt.plot(K, auctkT, 'r-', lw=3, label=\"Training AUC\")\n",
        "plt.plot(K, auckV, 'b-', lw=3, label=\"Validation AUC\")\n",
        "plt.title(\"Training and validation AUC\")\n",
        "plt.legend()"
      ]
    },
    {
      "cell_type": "markdown",
      "metadata": {
        "id": "V-gyZGhHeALp"
      },
      "source": [
        "Q2.2"
      ]
    },
    {
      "cell_type": "code",
      "execution_count": null,
      "metadata": {
        "colab": {
          "base_uri": "https://localhost:8080/",
          "height": 354
        },
        "id": "rv6BKEXIJ2rW",
        "outputId": "5ee6b00c-509d-4fcc-dac3-8cb46573fed4"
      },
      "outputs": [
        {
          "output_type": "stream",
          "name": "stdout",
          "text": [
            "[0.9967076515447836, 0.7183830619988418, 0.6770872059855533, 0.647974994077252, 0.6344284454028446]\n",
            "[0.5601329014960765, 0.5895307285936914, 0.592703784104414, 0.599870689798091, 0.5982222834307611]\n",
            "Max AUC from KNN using alpha=0 through original data is :  0.599870689798091\n"
          ]
        },
        {
          "output_type": "execute_result",
          "data": {
            "text/plain": [
              "<matplotlib.legend.Legend at 0x7fcc1b30ad50>"
            ]
          },
          "metadata": {},
          "execution_count": 17
        },
        {
          "output_type": "display_data",
          "data": {
            "image/png": "[encoded data removed]",
            "text/plain": [
              "<Figure size 432x288 with 1 Axes>"
            ]
          },
          "metadata": {
            "needs_background": "light"
          }
        }
      ],
      "source": [
        "\n",
        "\n",
        "auctkT = []\n",
        "auckV = []\n",
        "K = [1, 10, 20, 50, 100]\n",
        "for k in K:\n",
        "    learner = ml.knn.knnClassify()\n",
        "    learner.train(Xt, Yt, K=k, alpha=0.0)\n",
        "    auctkT.append(learner.auc(Xt, Yt))\n",
        "    auckV.append(learner.auc(Xva, Yva))\n",
        "    \n",
        "print(auctkT)\n",
        "print(auckV)\n",
        "print(\"Max AUC from KNN using alpha=0 through original data is : \", max(auckV))\n",
        "plt.plot(K, auctkT, 'r-', lw=3, label=\"Training AUC\")\n",
        "plt.plot(K, auckV, 'b-', lw=3, label=\"Validation AUC\")\n",
        "plt.title(\"Training and validation AUC\")\n",
        "plt.legend()"
      ]
    },
    {
      "cell_type": "markdown",
      "source": [
        "2.3a"
      ],
      "metadata": {
        "id": "evDFjiYHOQIH"
      }
    },
    {
      "cell_type": "code",
      "execution_count": null,
      "metadata": {
        "colab": {
          "base_uri": "https://localhost:8080/",
          "height": 545
        },
        "id": "OF6NmmrXXf9L",
        "outputId": "24fb0f55-367d-4bce-ef24-438261528953"
      },
      "outputs": [
        {
          "output_type": "stream",
          "name": "stderr",
          "text": [
            "/content/drive/MyDrive/HW4/HW4(3)/HW4/mltools/knn.py:103: RuntimeWarning: invalid value encountered in true_divide\n",
            "  prob[i,:] = count / count.sum()    # save (soft) results\n"
          ]
        },
        {
          "output_type": "stream",
          "name": "stdout",
          "text": [
            "[[0.99626593 0.99626593 0.99626593 0.99626593 0.99626593]\n",
            " [0.8867202  0.94326563 0.97271348 0.98685796 0.99350829]\n",
            " [0.85309747 0.92521349 0.96289401 0.98208317 0.99129038]\n",
            " [0.81678712 0.90268105 0.95109209 0.97644863 0.98882031]\n",
            " [0.79915769 0.8914211  0.94503537 0.97374774 0.9876641 ]]\n",
            "[[0.57035949 0.57040707 0.57040707 0.57039896 0.57039896]\n",
            " [0.63773519 0.63247996 0.62721318 0.6226284  0.61870455]\n",
            " [0.64811352 0.64055935 0.63299525 0.62643534 0.62098139]\n",
            " [0.65654212 0.64761929 0.63809417 0.62975032 0.62297934]\n",
            " [0.6578519  0.64913295 0.63926482 0.63046615 0.62334391]]\n"
          ]
        },
        {
          "output_type": "display_data",
          "data": {
            "image/png": "[encoded data removed]",
            "text/plain": [
              "<Figure size 576x360 with 2 Axes>"
            ]
          },
          "metadata": {
            "needs_background": "light"
          }
        }
      ],
      "source": [
        "K = [1, 10, 20, 50, 100]\n",
        "A = [1,2,3,4,5] #A = range(1,6)\n",
        "tr_auc = np.zeros((len(K),len(A)))\n",
        "va_auc = np.zeros((len(K),len(A)))\n",
        "for i,k in enumerate(K):\n",
        "    for j,a in enumerate(A):\n",
        "# train learner using k and a\n",
        "        learner.train(XtS, Yt, K=k, alpha=a)\n",
        "        tr_auc[i][j] = learner.auc(XtS, Yt)\n",
        "        va_auc[i][j] = learner.auc(XvS, Yva)\n",
        "# Now plot it\n",
        "print(tr_auc)\n",
        "print(va_auc)\n",
        "f, ax = plt.subplots(1, 1, figsize=(8, 5))\n",
        "cax = ax.matshow(tr_auc, interpolation = 'nearest')\n",
        "#cax = ax.matshow(va_auc, interpolation = 'nearest')\n",
        "f.colorbar(cax)\n",
        "ax.set_xticklabels(['regularization']+A)\n",
        "ax.set_yticklabels(['KNN Values']+K)\n",
        "plt.show()\n",
        "\n"
      ]
    },
    {
      "cell_type": "markdown",
      "source": [
        "2.3b"
      ],
      "metadata": {
        "id": "CBy77HBVOTXS"
      }
    },
    {
      "cell_type": "code",
      "source": [
        "K = [1, 10, 20, 50, 100]\n",
        "A = [1,2,3,4,5] #A = range(1,6)\n",
        "tr_auc = np.zeros((len(K),len(A)))\n",
        "va_auc = np.zeros((len(K),len(A)))\n",
        "for i,k in enumerate(K):\n",
        "    for j,a in enumerate(A):\n",
        "# train learner using k and a\n",
        "        learner.train(XtS, Yt, K=k, alpha=a)\n",
        "        tr_auc[i][j] = learner.auc(XtS, Yt)\n",
        "        va_auc[i][j] = learner.auc(XvS, Yva)\n",
        "# Now plot it\n",
        "f, ax = plt.subplots(1, 1, figsize=(8, 5))\n",
        "#cax = ax.matshow(tr_auc, interpolation = 'nearest')\n",
        "cax = ax.matshow(va_auc, interpolation = 'nearest')\n",
        "f.colorbar(cax)\n",
        "ax.set_xticklabels(['Regularization']+A)\n",
        "ax.set_yticklabels(['KNN values']+K)\n",
        "plt.show()\n",
        "\n"
      ],
      "metadata": {
        "id": "36O8dJiwL8x_",
        "colab": {
          "base_uri": "https://localhost:8080/",
          "height": 360
        },
        "outputId": "3396c666-f436-423a-e483-759d05f9f9a3"
      },
      "execution_count": null,
      "outputs": [
        {
          "output_type": "stream",
          "name": "stderr",
          "text": [
            "/content/drive/MyDrive/HW4/HW4(3)/HW4/mltools/knn.py:103: RuntimeWarning: invalid value encountered in true_divide\n",
            "  prob[i,:] = count / count.sum()    # save (soft) results\n"
          ]
        },
        {
          "output_type": "display_data",
          "data": {
            "image/png": "[encoded data removed]",
            "text/plain": [
              "<Figure size 576x360 with 2 Axes>"
            ]
          },
          "metadata": {
            "needs_background": "light"
          }
        }
      ]
    },
    {
      "cell_type": "markdown",
      "source": [
        "Since we are more interested in validation AUC, this graph belongs to validation AUC hence K=100 with a = 1 is best choice for this problem which gave us maximum AUC"
      ],
      "metadata": {
        "id": "7NBTUy6O34pq"
      }
    },
    {
      "cell_type": "code",
      "source": [
        "AUCV = [0.6578519,  0.64913295, 0.63926482, 0.63046615, 0.62334391]\n",
        "print(\"Max AUC from KNN by varying K and alphas is : \", max(AUCV))"
      ],
      "metadata": {
        "colab": {
          "base_uri": "https://localhost:8080/"
        },
        "id": "qvwDeYvSBk7r",
        "outputId": "782d3ca3-38da-447f-dcae-e2479e33c4e9"
      },
      "execution_count": null,
      "outputs": [
        {
          "output_type": "stream",
          "name": "stdout",
          "text": [
            "Max AUC from KNN by varying K and alphas is :  0.6578519\n"
          ]
        }
      ]
    },
    {
      "cell_type": "markdown",
      "source": [
        "The maximum value of AUC from KNN is 0.6578519"
      ],
      "metadata": {
        "id": "nR82FZpvHE69"
      }
    },
    {
      "cell_type": "markdown",
      "source": [
        "# Problem 3 Decision Trees"
      ],
      "metadata": {
        "id": "SJ3fMKb8OHes"
      }
    },
    {
      "cell_type": "markdown",
      "source": [
        "Q3.1"
      ],
      "metadata": {
        "id": "pvpr1nlsQVuU"
      }
    },
    {
      "cell_type": "code",
      "execution_count": null,
      "metadata": {
        "id": "xDqgX9NBWZWl",
        "colab": {
          "base_uri": "https://localhost:8080/",
          "height": 374
        },
        "outputId": "a174961c-0566-485c-b37d-cef884f78f11"
      },
      "outputs": [
        {
          "output_type": "stream",
          "name": "stdout",
          "text": [
            "[0.6346139740267099, 0.6979384174094536, 0.8348926166781355, 0.9370907318364429, 0.9999769546368616, 0.9999769546368616, 0.9999769546368616]\n",
            "[0.6180079115199609, 0.6382290168910225, 0.6093517591502644, 0.6077723589167647, 0.5815610106549411, 0.5728618894109142, 0.5747787832121307]\n",
            "Max AUC from decision trees by varying maximum depth is :  0.6382290168910225\n"
          ]
        },
        {
          "output_type": "execute_result",
          "data": {
            "text/plain": [
              "<matplotlib.legend.Legend at 0x7fcc1b4a0c10>"
            ]
          },
          "metadata": {},
          "execution_count": 18
        },
        {
          "output_type": "display_data",
          "data": {
            "image/png": "[encoded data removed]",
            "text/plain": [
              "<Figure size 432x288 with 1 Axes>"
            ]
          },
          "metadata": {
            "needs_background": "light"
          }
        }
      ],
      "source": [
        "#Q3.1\n",
        "\n",
        "maxdepth=[2,5,10,15,30,50,100]\n",
        "AUC=[]\n",
        "AUCV=[]\n",
        "\n",
        "for i in maxdepth:\n",
        "    learner = ml.dtree.treeClassify(Xt, Yt, maxDepth=i, minParent=2, minLeaf=1)\n",
        "    learner.auc(Xt, Yt) # train AUC\n",
        "    AUC.append(learner.auc(Xt, Yt))\n",
        "    AUCV.append(learner.auc(Xva,Yva))\n",
        "\n",
        "print(AUC)\n",
        "print(AUCV)\n",
        "print(\"Max AUC from decision trees by varying maximum depth is : \", max(AUCV))\n",
        "    \n",
        "plt.plot(maxdepth, AUC, 'r-', lw=3, label=\"Training AUC\")\n",
        "plt.plot(maxdepth, AUCV, 'b-', lw=3, label=\"Validation AUC\")\n",
        "plt.title(\"Training and validation AUC\")\n",
        "plt.legend()"
      ]
    },
    {
      "cell_type": "markdown",
      "source": [
        "Q3.2"
      ],
      "metadata": {
        "id": "yf9d7nkeQYy-"
      }
    },
    {
      "cell_type": "code",
      "execution_count": null,
      "metadata": {
        "id": "6cBWfvP6ZAGx",
        "colab": {
          "base_uri": "https://localhost:8080/",
          "height": 336
        },
        "outputId": "3fc023ea-4f34-4c7b-f0fe-5b4981531785"
      },
      "outputs": [
        {
          "output_type": "stream",
          "name": "stdout",
          "text": [
            "[7, 61, 949, 3467, 9257, 9889, 9889]\n",
            "[7, 61, 793, 2435, 5821, 6211, 6205]\n"
          ]
        },
        {
          "output_type": "execute_result",
          "data": {
            "text/plain": [
              "<matplotlib.legend.Legend at 0x7fec00998550>"
            ]
          },
          "metadata": {},
          "execution_count": 19
        },
        {
          "output_type": "display_data",
          "data": {
            "image/png": "[encoded data removed]",
            "text/plain": [
              "<Figure size 432x288 with 1 Axes>"
            ]
          },
          "metadata": {
            "needs_background": "light"
          }
        }
      ],
      "source": [
        "learner = ml.dtree.treeClassify(Xt, Yt, maxDepth=15)\n",
        "maxdepth=[2,5,10,15,30,50,100]\n",
        "nodes=[]\n",
        "nodesd=[]\n",
        "\n",
        "\n",
        "for i in maxdepth:\n",
        "    learner = ml.dtree.treeClassify(Xt, Yt, maxDepth=i, minParent=2, minLeaf=1)\n",
        "    nodes.append(learner.sz)\n",
        "for i in maxdepth:\n",
        "    learner = ml.dtree.treeClassify(Xt, Yt, maxDepth=i, minParent=4, minLeaf=1)\n",
        "    nodesd.append(learner.sz)\n",
        "\n",
        "    \n",
        "\n",
        "\n",
        "print(nodes)\n",
        "print(nodesd)\n",
        "\n",
        "plt.plot(maxdepth,nodes, 'r-', lw=3, label='minParent=2')\n",
        "plt.plot(maxdepth, nodesd, 'b-', lw=3, label='minParent=4')\n",
        "plt.title(\"Number of nodes\")\n",
        "plt.legend()\n"
      ]
    },
    {
      "cell_type": "markdown",
      "source": [
        "Q3.3"
      ],
      "metadata": {
        "id": "Y_98E3zGRD1W"
      }
    },
    {
      "cell_type": "code",
      "execution_count": null,
      "metadata": {
        "id": "egM2rXjyZiaC",
        "colab": {
          "base_uri": "https://localhost:8080/",
          "height": 411
        },
        "outputId": "0cd6b608-e7ed-4b54-be4d-474268ff17c9"
      },
      "outputs": [
        {
          "output_type": "stream",
          "name": "stdout",
          "text": [
            "[0.1162, 0.1342, 0.1614, 0.1894, 0.2314, 0.2718, 0.2834, 0.3014, 0.306]\n",
            "[0.356, 0.354675, 0.355825, 0.350925, 0.342975, 0.3296, 0.3308, 0.3253, 0.320875]\n",
            "[0.944562720063042, 0.9355175495372187, 0.9161083322169336, 0.8806650120633958, 0.8302013160426753, 0.7698368119277779, 0.7377212601455642, 0.7005725831197825, 0.6791478380669586]\n",
            "[0.6023689423795252, 0.6010931222460414, 0.6043769093734458, 0.6095410560833024, 0.6201993157378061, 0.6346308931411334, 0.6375620427228977, 0.6437674230405426, 0.6429221456970355]\n",
            "Max AUC from decision trees by varying minparent is :  0.6437674230405426\n"
          ]
        },
        {
          "output_type": "execute_result",
          "data": {
            "text/plain": [
              "<matplotlib.legend.Legend at 0x7fcfc3a64f50>"
            ]
          },
          "metadata": {},
          "execution_count": 14
        },
        {
          "output_type": "display_data",
          "data": {
            "image/png": "[encoded data removed]",
            "text/plain": [
              "<Figure size 432x288 with 1 Axes>"
            ]
          },
          "metadata": {
            "needs_background": "light"
          }
        }
      ],
      "source": [
        "minParent=[4,8,16,32,64,128,256,512,1024]\n",
        "\n",
        "ErrorT=[]\n",
        "ErrorV=[]\n",
        "AUCT = []\n",
        "AUCV = []\n",
        "\n",
        "\n",
        "for i in minParent:\n",
        "    learner = ml.dtree.treeClassify(Xt, Yt, maxDepth=15, minParent=i, minLeaf=1)\n",
        "    ErrorT.append(learner.err(Xt, Yt))\n",
        "    ErrorV.append(learner.err(Xva,Yva))\n",
        "    AUCT .append(learner.auc(Xt, Yt))\n",
        "    AUCV.append(learner.auc(Xva,Yva))\n",
        "\n",
        "print(ErrorT)\n",
        "print(ErrorV)\n",
        "print(AUCT)\n",
        "print(AUCV)\n",
        "print(\"Max AUC from decision trees by varying minparent is : \", max(AUCV))\n",
        "\n",
        "\n",
        "plt.plot(minParent,ErrorT, 'r-', lw=3, label='Training error')\n",
        "plt.plot(minParent,ErrorV, 'b-', lw=3, label='validation error')\n",
        "plt.title(\"Errors\")\n",
        "plt.legend()"
      ]
    },
    {
      "cell_type": "markdown",
      "source": [
        "1) By increasing the number of minparent the training error is increasing and validation error decreasing, hence by increasing the min parent number model is becoming less complex. 2) The minparent 1024 is giving minimum error for validation hence it will be best minparent parameter for this model."
      ],
      "metadata": {
        "id": "heVQ-gfn_D2P"
      }
    },
    {
      "cell_type": "markdown",
      "source": [
        "Max AUC from decision trees is :  0.6437674230405426"
      ],
      "metadata": {
        "id": "cpFtrJsiJKZV"
      }
    },
    {
      "cell_type": "markdown",
      "source": [
        "#Problem 4 Neural Networks"
      ],
      "metadata": {
        "id": "fGfBNdaDo5rA"
      }
    },
    {
      "cell_type": "markdown",
      "source": [
        "Q4.1"
      ],
      "metadata": {
        "id": "-xFWJQE_pF1Z"
      }
    },
    {
      "cell_type": "code",
      "source": [
        "layers = [1, 2, 4, 6]\n",
        "nodes = [5, 10, 25, 50, 100]\n",
        "input = [14]\n",
        "output = [2]\n",
        "\n",
        "tr_auc = np.zeros((len(layers),len(nodes)))\n",
        "va_auc = np.zeros((len(layers),len(nodes)))\n",
        "\n",
        "\n",
        "for n,k in enumerate(layers):\n",
        "    for i, j in enumerate(nodes):\n",
        "        \n",
        "        size = input+k*[j]+output\n",
        "        print(size)\n",
        "\n",
        "        nn = ml.nnet.nnetClassify()\n",
        "        nn.init_weights(size, 'random', XtS, Yt) # as many layers nodes you want\n",
        "\n",
        "        nn.train(XtS, Yt, stopTol=1e-8, stepsize=.25, stopIter=300)\n",
        "        tr_auc[n][i] = nn.auc(XtS, Yt)\n",
        "        va_auc[n][i] = nn.auc(XvS, Yva)\n",
        "\n",
        "print(tr_auc)\n",
        "print(va_auc)\n",
        "\n",
        "f, ax = plt.subplots(1, 1, figsize=(8, 5))\n",
        "cax = ax.matshow(tr_auc, interpolation='nearest')\n",
        "f.colorbar(cax)\n",
        "ax.set_xticklabels(['']+nodes)\n",
        "ax.set_yticklabels(['']+layers)\n",
        "plt.show()\n",
        "\n",
        "f, ax = plt.subplots(1, 1, figsize=(8, 5))\n",
        "cax = ax.matshow(va_auc, interpolation='nearest')\n",
        "f.colorbar(cax)\n",
        "ax.set_xticklabels(['']+nodes)\n",
        "ax.set_yticklabels(['']+layers)\n",
        "plt.show()\n",
        "\n",
        "\n",
        " \n",
        "\n",
        "      \n",
        "      \n",
        "\n",
        "\n",
        "\n",
        "\n"
      ],
      "metadata": {
        "id": "jr22xgwzpBEb",
        "colab": {
          "base_uri": "https://localhost:8080/",
          "height": 1000
        },
        "outputId": "356abe73-5acd-4225-c3dd-9816d38250fb"
      },
      "execution_count": null,
      "outputs": [
        {
          "output_type": "stream",
          "name": "stdout",
          "text": [
            "[14, 5, 2]\n",
            "it 1 : Jsur = 0.4278499983376294, J01 = 0.3378\n",
            "it 2 : Jsur = 0.4180812655439466, J01 = 0.321\n",
            "it 4 : Jsur = 0.4131189400029065, J01 = 0.3162\n",
            "it 8 : Jsur = 0.40887572567455577, J01 = 0.3108\n",
            "it 16 : Jsur = 0.4057019327981397, J01 = 0.303\n",
            "it 32 : Jsur = 0.4031020344817119, J01 = 0.3008\n",
            "it 64 : Jsur = 0.4005355204803989, J01 = 0.3002\n",
            "it 128 : Jsur = 0.39759972146472966, J01 = 0.2936\n",
            "it 256 : Jsur = 0.39521789408895985, J01 = 0.2886\n",
            "[14, 10, 2]\n",
            "it 1 : Jsur = 0.4280317062884044, J01 = 0.3302\n",
            "it 2 : Jsur = 0.4180731714656176, J01 = 0.3206\n",
            "it 4 : Jsur = 0.4121131341829936, J01 = 0.3138\n",
            "it 8 : Jsur = 0.408014422659245, J01 = 0.309\n",
            "it 16 : Jsur = 0.405205391340784, J01 = 0.2996\n",
            "it 32 : Jsur = 0.4032378742279209, J01 = 0.3002\n",
            "it 64 : Jsur = 0.40106540872262103, J01 = 0.2996\n",
            "it 128 : Jsur = 0.39806852235328194, J01 = 0.3002\n",
            "it 256 : Jsur = 0.394924661061203, J01 = 0.2994\n",
            "[14, 25, 2]\n",
            "it 1 : Jsur = 0.4252797496815909, J01 = 0.3228\n",
            "it 2 : Jsur = 0.4177269905946876, J01 = 0.3182\n",
            "it 4 : Jsur = 0.41175624504974373, J01 = 0.3152\n",
            "it 8 : Jsur = 0.4074434869254989, J01 = 0.3062\n",
            "it 16 : Jsur = 0.4047717201582457, J01 = 0.3042\n",
            "it 32 : Jsur = 0.4026385904106256, J01 = 0.3012\n",
            "it 64 : Jsur = 0.400414511889924, J01 = 0.3016\n",
            "it 128 : Jsur = 0.3980577737059167, J01 = 0.2972\n",
            "it 256 : Jsur = 0.39628070158431766, J01 = 0.2948\n",
            "[14, 50, 2]\n",
            "it 1 : Jsur = 0.4251920201796472, J01 = 0.319\n",
            "it 2 : Jsur = 0.4179735512711976, J01 = 0.3178\n",
            "it 4 : Jsur = 0.4119038626969232, J01 = 0.3144\n",
            "it 8 : Jsur = 0.4074409402959328, J01 = 0.3044\n",
            "it 16 : Jsur = 0.4044973023479077, J01 = 0.3026\n",
            "it 32 : Jsur = 0.4009655265794326, J01 = 0.297\n",
            "it 64 : Jsur = 0.3970627911819462, J01 = 0.2982\n",
            "it 128 : Jsur = 0.39396415756031516, J01 = 0.292\n",
            "it 256 : Jsur = 0.3913136606675429, J01 = 0.289\n",
            "[14, 100, 2]\n",
            "it 1 : Jsur = 0.4257442852904128, J01 = 0.3254\n",
            "it 2 : Jsur = 0.41782083458198577, J01 = 0.3212\n",
            "it 4 : Jsur = 0.4128129374991684, J01 = 0.313\n",
            "it 8 : Jsur = 0.40920743830986706, J01 = 0.3092\n",
            "it 16 : Jsur = 0.40651192882749054, J01 = 0.3008\n",
            "it 32 : Jsur = 0.40444094150298976, J01 = 0.3022\n",
            "it 64 : Jsur = 0.4029661307361754, J01 = 0.3006\n",
            "it 128 : Jsur = 0.4009107981963338, J01 = 0.2998\n",
            "it 256 : Jsur = 0.39844270300154766, J01 = 0.2994\n",
            "[14, 5, 5, 2]\n",
            "it 1 : Jsur = 0.45837705640140813, J01 = 0.3358\n",
            "it 2 : Jsur = 0.4519948891638911, J01 = 0.3358\n",
            "it 4 : Jsur = 0.4481873417627943, J01 = 0.3358\n",
            "it 8 : Jsur = 0.4467271107183196, J01 = 0.3358\n",
            "it 16 : Jsur = 0.44617873852119316, J01 = 0.3358\n",
            "it 32 : Jsur = 0.4072982582239331, J01 = 0.3038\n",
            "it 64 : Jsur = 0.40195220732996606, J01 = 0.2994\n",
            "it 128 : Jsur = 0.3982356458977699, J01 = 0.2964\n",
            "it 256 : Jsur = 0.39546605589888295, J01 = 0.2944\n",
            "[14, 10, 10, 2]\n",
            "it 1 : Jsur = 0.4583770543931807, J01 = 0.3358\n",
            "it 2 : Jsur = 0.4519948830178333, J01 = 0.3358\n",
            "it 4 : Jsur = 0.44818733986880416, J01 = 0.3358\n",
            "it 8 : Jsur = 0.4467271737155539, J01 = 0.3358\n",
            "it 16 : Jsur = 0.4462028312001176, J01 = 0.3358\n",
            "it 32 : Jsur = 0.407928543332012, J01 = 0.3036\n",
            "it 64 : Jsur = 0.40321382529564914, J01 = 0.302\n",
            "it 128 : Jsur = 0.39909566897294496, J01 = 0.2976\n",
            "it 256 : Jsur = 0.39580428591200006, J01 = 0.292\n",
            "[14, 25, 25, 2]\n",
            "it 1 : Jsur = 0.45837708413518297, J01 = 0.3358\n",
            "it 2 : Jsur = 0.4519886939076165, J01 = 0.3358\n",
            "it 4 : Jsur = 0.41846657682369853, J01 = 0.308\n",
            "it 8 : Jsur = 0.41136156383610634, J01 = 0.3086\n",
            "it 16 : Jsur = 0.40626289161016915, J01 = 0.3042\n",
            "it 32 : Jsur = 0.4033696571516035, J01 = 0.3026\n",
            "it 64 : Jsur = 0.4004273071469314, J01 = 0.2988\n",
            "it 128 : Jsur = 0.3965387301191911, J01 = 0.297\n",
            "it 256 : Jsur = 0.3934629880919292, J01 = 0.2918\n",
            "[14, 50, 50, 2]\n",
            "it 1 : Jsur = 0.4481001594546565, J01 = 0.3342\n",
            "it 2 : Jsur = 0.42074407831321126, J01 = 0.311\n",
            "it 4 : Jsur = 0.4147154128161135, J01 = 0.3102\n",
            "it 8 : Jsur = 0.4096378327097613, J01 = 0.3068\n",
            "it 16 : Jsur = 0.4054302773222109, J01 = 0.3044\n",
            "it 32 : Jsur = 0.40238683748798293, J01 = 0.302\n",
            "it 64 : Jsur = 0.399054886714587, J01 = 0.3002\n",
            "it 128 : Jsur = 0.39540451792803916, J01 = 0.2984\n",
            "it 256 : Jsur = 0.39239852178778417, J01 = 0.2912\n",
            "[14, 100, 100, 2]\n",
            "it 1 : Jsur = 0.4244151338686487, J01 = 0.3122\n",
            "it 2 : Jsur = 0.41971724211032524, J01 = 0.3128\n",
            "it 4 : Jsur = 0.41427114864210574, J01 = 0.3106\n",
            "it 8 : Jsur = 0.40944829055027804, J01 = 0.3056\n",
            "it 16 : Jsur = 0.4054888812051543, J01 = 0.3028\n",
            "it 32 : Jsur = 0.40274993160822187, J01 = 0.3022\n",
            "it 64 : Jsur = 0.40073498183706124, J01 = 0.3002\n",
            "it 128 : Jsur = 0.3970105903156904, J01 = 0.2958\n",
            "it 256 : Jsur = 0.39246261827601436, J01 = 0.289\n",
            "[14, 5, 5, 5, 5, 2]\n",
            "it 1 : Jsur = 0.45837704828139275, J01 = 0.3358\n",
            "it 2 : Jsur = 0.451994865377969, J01 = 0.3358\n",
            "it 4 : Jsur = 0.4481873399115611, J01 = 0.3358\n",
            "it 8 : Jsur = 0.44672737711993793, J01 = 0.3358\n",
            "it 16 : Jsur = 0.4462173651219149, J01 = 0.3358\n",
            "it 32 : Jsur = 0.44609837186467466, J01 = 0.3358\n",
            "it 64 : Jsur = 0.44608000265134795, J01 = 0.3358\n",
            "it 128 : Jsur = 0.4460772938152053, J01 = 0.3358\n",
            "[14, 10, 10, 10, 10, 2]\n",
            "it 1 : Jsur = 0.4583770487737983, J01 = 0.3358\n",
            "it 2 : Jsur = 0.4519948654786029, J01 = 0.3358\n",
            "it 4 : Jsur = 0.44818733991921783, J01 = 0.3358\n",
            "it 8 : Jsur = 0.44672737711703586, J01 = 0.3358\n",
            "it 16 : Jsur = 0.4462173651199386, J01 = 0.3358\n",
            "it 32 : Jsur = 0.44609837186293044, J01 = 0.3358\n",
            "it 64 : Jsur = 0.44608000265105047, J01 = 0.3358\n",
            "it 128 : Jsur = 0.4460772938151471, J01 = 0.3358\n",
            "[14, 25, 25, 25, 25, 2]\n",
            "it 1 : Jsur = 0.4583770507260534, J01 = 0.3358\n",
            "it 2 : Jsur = 0.4519948654550901, J01 = 0.3358\n",
            "it 4 : Jsur = 0.44818733999196636, J01 = 0.3358\n",
            "it 8 : Jsur = 0.4467273771509667, J01 = 0.3358\n",
            "it 16 : Jsur = 0.44621736513843646, J01 = 0.3358\n",
            "it 32 : Jsur = 0.44609837187248597, J01 = 0.3358\n",
            "it 64 : Jsur = 0.4460800026524325, J01 = 0.3358\n",
            "it 128 : Jsur = 0.4460772938152294, J01 = 0.3358\n",
            "[14, 50, 50, 50, 50, 2]\n",
            "it 1 : Jsur = 0.4583770554376471, J01 = 0.3358\n",
            "it 2 : Jsur = 0.4519948657898306, J01 = 0.3358\n",
            "it 4 : Jsur = 0.4481873400548055, J01 = 0.3358\n",
            "it 8 : Jsur = 0.4467273771787324, J01 = 0.3358\n",
            "it 16 : Jsur = 0.44621736514942384, J01 = 0.3358\n",
            "it 32 : Jsur = 0.446098371879118, J01 = 0.3358\n",
            "it 64 : Jsur = 0.44608000265267983, J01 = 0.3358\n",
            "it 128 : Jsur = 0.44607729381439915, J01 = 0.3358\n",
            "[14, 100, 100, 100, 100, 2]\n",
            "it 1 : Jsur = 0.4583770705362373, J01 = 0.3358\n",
            "it 2 : Jsur = 0.4519948668682668, J01 = 0.3358\n",
            "it 4 : Jsur = 0.4481873402569994, J01 = 0.3358\n",
            "it 8 : Jsur = 0.4467273772722924, J01 = 0.3358\n",
            "it 16 : Jsur = 0.44621736519035005, J01 = 0.3358\n",
            "it 32 : Jsur = 0.44609837190398377, J01 = 0.3358\n",
            "it 64 : Jsur = 0.4460800026557458, J01 = 0.3358\n",
            "it 128 : Jsur = 0.4460772938131813, J01 = 0.3358\n",
            "[14, 5, 5, 5, 5, 5, 5, 2]\n",
            "it 1 : Jsur = 0.4583770473738294, J01 = 0.3358\n",
            "it 2 : Jsur = 0.4519948653221646, J01 = 0.3358\n",
            "it 4 : Jsur = 0.44818733989813064, J01 = 0.3358\n",
            "it 8 : Jsur = 0.44672737711343835, J01 = 0.3358\n",
            "it 16 : Jsur = 0.44621736511901083, J01 = 0.3358\n",
            "it 32 : Jsur = 0.4460983718628696, J01 = 0.3358\n",
            "it 64 : Jsur = 0.4460800026510704, J01 = 0.3358\n",
            "it 128 : Jsur = 0.4460772938151753, J01 = 0.3358\n",
            "[14, 10, 10, 10, 10, 10, 10, 2]\n",
            "it 1 : Jsur = 0.45837704948208613, J01 = 0.3358\n",
            "it 2 : Jsur = 0.4519948655311194, J01 = 0.3358\n",
            "it 4 : Jsur = 0.44818733994100385, J01 = 0.3358\n",
            "it 8 : Jsur = 0.44672737712349336, J01 = 0.3358\n",
            "it 16 : Jsur = 0.44621736512320065, J01 = 0.3358\n",
            "it 32 : Jsur = 0.44609837186425283, J01 = 0.3358\n",
            "it 64 : Jsur = 0.446080002651275, J01 = 0.3358\n",
            "it 128 : Jsur = 0.4460772938152032, J01 = 0.3358\n",
            "[14, 25, 25, 25, 25, 25, 25, 2]\n",
            "it 1 : Jsur = 0.45837705260584644, J01 = 0.3358\n",
            "it 2 : Jsur = 0.45199486561323865, J01 = 0.3358\n",
            "it 4 : Jsur = 0.4481873400001686, J01 = 0.3358\n",
            "it 8 : Jsur = 0.44672737715756294, J01 = 0.3358\n",
            "it 16 : Jsur = 0.4462173651402234, J01 = 0.3358\n",
            "it 32 : Jsur = 0.44609837187464146, J01 = 0.3358\n",
            "it 64 : Jsur = 0.44608000265290565, J01 = 0.3358\n",
            "it 128 : Jsur = 0.4460772938154198, J01 = 0.3358\n",
            "[14, 50, 50, 50, 50, 50, 50, 2]\n",
            "it 1 : Jsur = 0.4583770574124212, J01 = 0.3358\n",
            "it 2 : Jsur = 0.4519948659070395, J01 = 0.3358\n",
            "it 4 : Jsur = 0.4481873400663678, J01 = 0.3358\n",
            "it 8 : Jsur = 0.4467273771908141, J01 = 0.3358\n",
            "it 16 : Jsur = 0.4462173651550496, J01 = 0.3358\n",
            "it 32 : Jsur = 0.44609837188408685, J01 = 0.3358\n",
            "it 64 : Jsur = 0.44608000265439496, J01 = 0.3358\n",
            "it 128 : Jsur = 0.4460772938156175, J01 = 0.3358\n",
            "[14, 100, 100, 100, 100, 100, 100, 2]\n",
            "it 1 : Jsur = 0.45837706762736635, J01 = 0.3358\n",
            "it 2 : Jsur = 0.45199486677736533, J01 = 0.3358\n",
            "it 4 : Jsur = 0.44818734028085316, J01 = 0.3358\n",
            "it 8 : Jsur = 0.4467273772535456, J01 = 0.3358\n",
            "it 16 : Jsur = 0.44621736518334876, J01 = 0.3358\n",
            "it 32 : Jsur = 0.446098371896276, J01 = 0.3358\n",
            "it 64 : Jsur = 0.44608000265625225, J01 = 0.3358\n",
            "it 128 : Jsur = 0.4460772938158664, J01 = 0.3358\n",
            "[[0.69253388 0.6932421  0.69111403 0.69833055 0.68734732]\n",
            " [0.69138035 0.69060918 0.69456617 0.69669495 0.69687214]\n",
            " [0.41604242 0.38391539 0.4426444  0.40889424 0.54822202]\n",
            " [0.53772669 0.4316679  0.53586235 0.5046922  0.43563278]]\n",
            "[[0.65448847 0.65902734 0.65749559 0.66144945 0.65470328]\n",
            " [0.6587068  0.65838243 0.65861099 0.65780025 0.65920777]\n",
            " [0.42866139 0.39397677 0.46002064 0.43129985 0.53981758]\n",
            " [0.53770118 0.4204085  0.54014927 0.50138732 0.44186114]]\n"
          ]
        },
        {
          "output_type": "display_data",
          "data": {
            "image/png": "[encoded data removed]",
            "text/plain": [
              "<Figure size 576x360 with 2 Axes>"
            ]
          },
          "metadata": {
            "needs_background": "light"
          }
        },
        {
          "output_type": "display_data",
          "data": {
            "image/png": "[encoded data removed]",
            "text/plain": [
              "<Figure size 576x360 with 2 Axes>"
            ]
          },
          "metadata": {
            "needs_background": "light"
          }
        }
      ]
    },
    {
      "cell_type": "code",
      "source": [
        "AUCV1= [0.65448847, 0.65902734, 0.65749559, 0.66144945, 0.65470328]\n",
        "AUC2= [0.6587068,  0.65838243, 0.65861099, 0.65780025, 0.65920777]\n",
        " \n",
        "print(\"Max AUC from NN from layer=1 is : \", max(AUCV1))\n",
        "print(\"Max AUC from NN from layer=2 is : \", max(AUC2))\n",
        " "
      ],
      "metadata": {
        "colab": {
          "base_uri": "https://localhost:8080/"
        },
        "id": "oLDUqHP0JffM",
        "outputId": "da207d55-0203-48c3-a141-c7a530da0fc5"
      },
      "execution_count": null,
      "outputs": [
        {
          "output_type": "stream",
          "name": "stdout",
          "text": [
            "Max AUC from NN from layer=1 is :  0.66144945\n",
            "Max AUC from NN from layer=2 is :  0.65920777\n"
          ]
        }
      ]
    },
    {
      "cell_type": "markdown",
      "source": [
        "Since the maximum AUC I got is using 1 hidden layer and 50 nodes hence I will recommend that for this model"
      ],
      "metadata": {
        "id": "k189LWgB7GxR"
      }
    },
    {
      "cell_type": "markdown",
      "source": [
        "#4.2"
      ],
      "metadata": {
        "id": "uFeR5Jqq6emF"
      }
    },
    {
      "cell_type": "code",
      "source": [
        "layers = [1, 2, 4, 6]\n",
        "nodes = [5, 10, 25, 50, 100]\n",
        "input = [14]\n",
        "output = [2]\n",
        "\n",
        "tr_auc = np.zeros((len(layers),len(nodes)))\n",
        "va_auc = np.zeros((len(layers),len(nodes)))\n",
        "\n",
        "\n",
        "for n,k in enumerate(layers):\n",
        "    for i, j in enumerate(nodes):\n",
        "        \n",
        "        size = input+k*[j]+output\n",
        "        print(size)\n",
        "\n",
        "        nn = ml.nnet.nnetClassify()\n",
        "        nn.setActivation('logistic')\n",
        "        nn.init_weights(size, 'random', XtS, Yt) # as many layers nodes you want\n",
        "\n",
        "        nn.train(XtS, Yt, stopTol=1e-8, stepsize=.25, stopIter=300)\n",
        "        tr_auc[n][i] = nn.auc(XtS, Yt)\n",
        "        va_auc[n][i] = nn.auc(XvS, Yva)\n",
        "\n",
        "print(tr_auc)\n",
        "print(va_auc)\n",
        "\n",
        "f, ax = plt.subplots(1, 1, figsize=(8, 5))\n",
        "cax = ax.matshow(tr_auc, interpolation='nearest')\n",
        "f.colorbar(cax)\n",
        "ax.set_xticklabels(['']+nodes)\n",
        "ax.set_yticklabels(['']+layers)\n",
        "plt.show()\n",
        "\n",
        "f, ax = plt.subplots(1, 1, figsize=(8, 5))\n",
        "cax = ax.matshow(va_auc, interpolation='nearest')\n",
        "f.colorbar(cax)\n",
        "ax.set_xticklabels(['']+nodes)\n",
        "ax.set_yticklabels(['']+layers)\n",
        "plt.show()\n",
        "\n",
        "\n",
        " \n",
        "\n",
        "      \n"
      ],
      "metadata": {
        "colab": {
          "base_uri": "https://localhost:8080/",
          "height": 1000
        },
        "id": "MiVWT1c04kSC",
        "outputId": "822584d2-3df2-4ee7-cc65-ac76505d1aa9"
      },
      "execution_count": null,
      "outputs": [
        {
          "output_type": "stream",
          "name": "stdout",
          "text": [
            "[14, 5, 2]\n",
            "it 1 : Jsur = 0.4276603298827784, J01 = 0.3332\n",
            "it 2 : Jsur = 0.41904915085433775, J01 = 0.3184\n",
            "it 4 : Jsur = 0.4160740819008741, J01 = 0.3114\n",
            "it 8 : Jsur = 0.4157566990065492, J01 = 0.3114\n",
            "it 16 : Jsur = 0.4163459579854325, J01 = 0.3104\n",
            "it 32 : Jsur = 0.4171376773930543, J01 = 0.3358\n",
            "it 64 : Jsur = 0.41789790185100684, J01 = 0.3358\n",
            "it 128 : Jsur = 0.418575856992826, J01 = 0.3358\n",
            "it 256 : Jsur = 0.41917680889695486, J01 = 0.3358\n",
            "[14, 10, 2]\n",
            "it 1 : Jsur = 0.42839355563133996, J01 = 0.3266\n",
            "it 2 : Jsur = 0.4182051337889383, J01 = 0.312\n",
            "it 4 : Jsur = 0.4137585781724355, J01 = 0.306\n",
            "it 8 : Jsur = 0.4122023762565243, J01 = 0.3092\n",
            "it 16 : Jsur = 0.4120856401475648, J01 = 0.3062\n",
            "it 32 : Jsur = 0.4124873118973428, J01 = 0.3082\n",
            "it 64 : Jsur = 0.4130755092168285, J01 = 0.308\n",
            "it 128 : Jsur = 0.4137062097464017, J01 = 0.3088\n",
            "it 256 : Jsur = 0.4143087132375243, J01 = 0.3098\n",
            "[14, 25, 2]\n",
            "it 1 : Jsur = 0.43846519237410564, J01 = 0.344\n",
            "it 2 : Jsur = 0.4225643671947211, J01 = 0.3192\n",
            "it 4 : Jsur = 0.4152167318005553, J01 = 0.305\n",
            "it 8 : Jsur = 0.41168802198507853, J01 = 0.3072\n",
            "it 16 : Jsur = 0.41022610287328115, J01 = 0.3064\n",
            "it 32 : Jsur = 0.4098095264674843, J01 = 0.3064\n",
            "it 64 : Jsur = 0.40971990942378295, J01 = 0.3062\n",
            "[14, 50, 2]\n",
            "it 1 : Jsur = 0.47189100624207203, J01 = 0.4086\n",
            "it 2 : Jsur = 0.43699604737135034, J01 = 0.3484\n",
            "it 4 : Jsur = 0.4231966176237604, J01 = 0.3236\n",
            "it 8 : Jsur = 0.41576200536737407, J01 = 0.3102\n",
            "it 16 : Jsur = 0.4119078224818796, J01 = 0.3062\n",
            "it 32 : Jsur = 0.4102679649448981, J01 = 0.3062\n",
            "it 64 : Jsur = 0.4096850814196858, J01 = 0.307\n",
            "it 128 : Jsur = 0.40947234376658925, J01 = 0.3056\n",
            "it 256 : Jsur = 0.40939222534831404, J01 = 0.3054\n",
            "[14, 100, 2]\n",
            "it 1 : Jsur = 0.5078960783442321, J01 = 0.463\n",
            "it 2 : Jsur = 0.453975145521024, J01 = 0.376\n",
            "it 4 : Jsur = 0.43244745934362344, J01 = 0.3462\n",
            "it 8 : Jsur = 0.4222982224667308, J01 = 0.3254\n",
            "it 16 : Jsur = 0.41569935115977913, J01 = 0.314\n",
            "it 32 : Jsur = 0.41196887147505984, J01 = 0.3038\n",
            "it 64 : Jsur = 0.4103288539470299, J01 = 0.3054\n",
            "it 128 : Jsur = 0.40969520269188014, J01 = 0.3068\n",
            "it 256 : Jsur = 0.409456196771715, J01 = 0.3058\n",
            "[14, 5, 5, 2]\n",
            "it 1 : Jsur = 0.44234324808016107, J01 = 0.3358\n",
            "it 2 : Jsur = 0.43021069246555255, J01 = 0.3358\n",
            "it 4 : Jsur = 0.42618272628404213, J01 = 0.3358\n",
            "it 8 : Jsur = 0.4250866942193961, J01 = 0.3358\n",
            "it 16 : Jsur = 0.42482943563571973, J01 = 0.3358\n",
            "it 32 : Jsur = 0.42497412755673203, J01 = 0.3358\n",
            "it 64 : Jsur = 0.425038385381589, J01 = 0.3358\n",
            "[14, 10, 10, 2]\n",
            "it 1 : Jsur = 0.4376350181876536, J01 = 0.3136\n",
            "it 2 : Jsur = 0.43217812243486586, J01 = 0.3358\n",
            "it 4 : Jsur = 0.4281297657494428, J01 = 0.3358\n",
            "it 8 : Jsur = 0.42635908280486284, J01 = 0.3358\n",
            "it 16 : Jsur = 0.425595728097098, J01 = 0.3358\n",
            "it 32 : Jsur = 0.42535846065732646, J01 = 0.3358\n",
            "it 64 : Jsur = 0.42530253974648896, J01 = 0.3358\n",
            "it 128 : Jsur = 0.42520896712942047, J01 = 0.3358\n",
            "it 256 : Jsur = 0.4251137766830984, J01 = 0.3358\n",
            "[14, 25, 25, 2]\n",
            "it 1 : Jsur = 0.4413853162639787, J01 = 0.32\n",
            "it 2 : Jsur = 0.435244740295633, J01 = 0.3358\n",
            "it 4 : Jsur = 0.4310418938809713, J01 = 0.3358\n",
            "it 8 : Jsur = 0.42854183730822804, J01 = 0.3358\n",
            "it 16 : Jsur = 0.42717173974184863, J01 = 0.3358\n",
            "it 32 : Jsur = 0.42647881256419207, J01 = 0.3358\n",
            "it 64 : Jsur = 0.42614902127151044, J01 = 0.3358\n",
            "it 128 : Jsur = 0.4259750602553373, J01 = 0.3358\n",
            "it 256 : Jsur = 0.4258249811634775, J01 = 0.3358\n",
            "[14, 50, 50, 2]\n",
            "it 1 : Jsur = 0.4452344819626029, J01 = 0.3358\n",
            "it 2 : Jsur = 0.43838402298015516, J01 = 0.3358\n",
            "it 4 : Jsur = 0.4337083648383383, J01 = 0.3358\n",
            "it 8 : Jsur = 0.43090786779269263, J01 = 0.3358\n",
            "it 16 : Jsur = 0.42926243067265923, J01 = 0.3358\n",
            "it 32 : Jsur = 0.42820032352217885, J01 = 0.3358\n",
            "it 64 : Jsur = 0.4275132609318309, J01 = 0.3358\n",
            "it 128 : Jsur = 0.4270326027035265, J01 = 0.3358\n",
            "it 256 : Jsur = 0.4266886300599477, J01 = 0.3358\n",
            "[14, 100, 100, 2]\n",
            "it 1 : Jsur = 0.4492003044309683, J01 = 0.3358\n",
            "it 2 : Jsur = 0.44154337240434854, J01 = 0.3358\n",
            "it 4 : Jsur = 0.4362439570338329, J01 = 0.3358\n",
            "it 8 : Jsur = 0.4330363475572819, J01 = 0.3358\n",
            "it 16 : Jsur = 0.43131969831386086, J01 = 0.3358\n",
            "it 32 : Jsur = 0.43023991975881926, J01 = 0.3358\n",
            "it 64 : Jsur = 0.42941158496490633, J01 = 0.3358\n",
            "it 128 : Jsur = 0.42881151136581974, J01 = 0.3358\n",
            "it 256 : Jsur = 0.42835323161951894, J01 = 0.3358\n",
            "[14, 5, 5, 5, 5, 2]\n",
            "it 1 : Jsur = 0.46239719779419675, J01 = 0.3358\n",
            "it 2 : Jsur = 0.4548705661734175, J01 = 0.3358\n",
            "it 4 : Jsur = 0.44942134993710786, J01 = 0.3358\n",
            "it 8 : Jsur = 0.4471398085014911, J01 = 0.3358\n",
            "it 16 : Jsur = 0.4463433969731903, J01 = 0.3358\n",
            "it 32 : Jsur = 0.44612111780839697, J01 = 0.3358\n",
            "it 64 : Jsur = 0.4460832258581617, J01 = 0.3358\n",
            "it 128 : Jsur = 0.44607778851187013, J01 = 0.3358\n",
            "[14, 10, 10, 10, 10, 2]\n",
            "it 1 : Jsur = 0.4629512187544568, J01 = 0.3358\n",
            "it 2 : Jsur = 0.45499135920926126, J01 = 0.3358\n",
            "it 4 : Jsur = 0.4493904994469765, J01 = 0.3358\n",
            "it 8 : Jsur = 0.447113778782765, J01 = 0.3358\n",
            "it 16 : Jsur = 0.4463324388853378, J01 = 0.3358\n",
            "it 32 : Jsur = 0.4461187309930011, J01 = 0.3358\n",
            "it 64 : Jsur = 0.4460828540914212, J01 = 0.3358\n",
            "it 128 : Jsur = 0.4460777111513231, J01 = 0.3358\n",
            "[14, 25, 25, 25, 25, 2]\n",
            "it 1 : Jsur = 0.4612914168461177, J01 = 0.3358\n",
            "it 2 : Jsur = 0.453433022255607, J01 = 0.3358\n",
            "it 4 : Jsur = 0.44865675230582885, J01 = 0.3358\n",
            "it 8 : Jsur = 0.44686821239028923, J01 = 0.3358\n",
            "it 16 : Jsur = 0.44625450908382625, J01 = 0.3358\n",
            "it 32 : Jsur = 0.44610226262530295, J01 = 0.3358\n",
            "it 64 : Jsur = 0.44607710418686763, J01 = 0.3358\n",
            "it 128 : Jsur = 0.4460715975600515, J01 = 0.3358\n",
            "it 256 : Jsur = 0.44606762520183163, J01 = 0.3358\n",
            "[14, 50, 50, 50, 50, 2]\n",
            "it 1 : Jsur = 0.4594938679422028, J01 = 0.3358\n",
            "it 2 : Jsur = 0.452449009578243, J01 = 0.3358\n",
            "it 4 : Jsur = 0.4483202931469641, J01 = 0.3358\n",
            "it 8 : Jsur = 0.44676426432442123, J01 = 0.3358\n",
            "it 16 : Jsur = 0.44622273972379334, J01 = 0.3358\n",
            "it 32 : Jsur = 0.4460910085355705, J01 = 0.3358\n",
            "it 64 : Jsur = 0.44606283571335226, J01 = 0.3358\n",
            "it 128 : Jsur = 0.4460396120963039, J01 = 0.3358\n",
            "it 256 : Jsur = 0.445990204337884, J01 = 0.3358\n",
            "[14, 100, 100, 100, 100, 2]\n",
            "it 1 : Jsur = 0.45869064510199203, J01 = 0.3358\n",
            "it 2 : Jsur = 0.45211743481354705, J01 = 0.3358\n",
            "it 4 : Jsur = 0.44822252272162333, J01 = 0.3358\n",
            "it 8 : Jsur = 0.44673616212867473, J01 = 0.3358\n",
            "it 16 : Jsur = 0.4462163977211307, J01 = 0.3358\n",
            "it 32 : Jsur = 0.4460916236455123, J01 = 0.3358\n",
            "it 64 : Jsur = 0.44606585578678243, J01 = 0.3358\n",
            "it 128 : Jsur = 0.446050680089275, J01 = 0.3358\n",
            "[14, 5, 5, 5, 5, 5, 5, 2]\n",
            "it 1 : Jsur = 0.4623978974851956, J01 = 0.3358\n",
            "it 2 : Jsur = 0.45487174768777183, J01 = 0.3358\n",
            "it 4 : Jsur = 0.44942222653951375, J01 = 0.3358\n",
            "it 8 : Jsur = 0.4471401592370317, J01 = 0.3358\n",
            "it 16 : Jsur = 0.4463435232499918, J01 = 0.3358\n",
            "it 32 : Jsur = 0.4461211445343508, J01 = 0.3358\n",
            "it 64 : Jsur = 0.4460832304848802, J01 = 0.3358\n",
            "it 128 : Jsur = 0.4460777899601862, J01 = 0.3358\n",
            "[14, 10, 10, 10, 10, 10, 10, 2]\n",
            "it 1 : Jsur = 0.46292734382817136, J01 = 0.3358\n",
            "it 2 : Jsur = 0.454972837414506, J01 = 0.3358\n",
            "it 4 : Jsur = 0.4493815499829134, J01 = 0.3358\n",
            "it 8 : Jsur = 0.44711084581176946, J01 = 0.3358\n",
            "it 16 : Jsur = 0.4463315015764807, J01 = 0.3358\n",
            "it 32 : Jsur = 0.44611856279996626, J01 = 0.3358\n",
            "it 64 : Jsur = 0.44608284705457735, J01 = 0.3358\n",
            "it 128 : Jsur = 0.44607773155440045, J01 = 0.3358\n",
            "[14, 25, 25, 25, 25, 25, 25, 2]\n",
            "it 1 : Jsur = 0.4613050754439579, J01 = 0.3358\n",
            "it 2 : Jsur = 0.453441065144627, J01 = 0.3358\n",
            "it 4 : Jsur = 0.4486603713889446, J01 = 0.3358\n",
            "it 8 : Jsur = 0.44687033193992076, J01 = 0.3358\n",
            "it 16 : Jsur = 0.44625652228753554, J01 = 0.3358\n",
            "it 32 : Jsur = 0.4461048324168396, J01 = 0.3358\n",
            "it 64 : Jsur = 0.4460809056072705, J01 = 0.3358\n",
            "it 128 : Jsur = 0.4460774350957307, J01 = 0.3358\n",
            "[14, 50, 50, 50, 50, 50, 50, 2]\n",
            "it 1 : Jsur = 0.45949557925596235, J01 = 0.3358\n",
            "it 2 : Jsur = 0.4524516270496953, J01 = 0.3358\n",
            "it 4 : Jsur = 0.4483231376868991, J01 = 0.3358\n",
            "it 8 : Jsur = 0.4467678014474006, J01 = 0.3358\n",
            "it 16 : Jsur = 0.4462280484080302, J01 = 0.3358\n",
            "it 32 : Jsur = 0.4461000924177175, J01 = 0.3358\n",
            "it 64 : Jsur = 0.4460802431094189, J01 = 0.3358\n",
            "it 128 : Jsur = 0.44607733172317593, J01 = 0.3358\n",
            "[14, 100, 100, 100, 100, 100, 100, 2]\n",
            "it 1 : Jsur = 0.45869246157409244, J01 = 0.3358\n",
            "it 2 : Jsur = 0.4521191300412907, J01 = 0.3358\n",
            "it 4 : Jsur = 0.44822416425845624, J01 = 0.3358\n",
            "it 8 : Jsur = 0.44673844712754046, J01 = 0.3358\n",
            "it 16 : Jsur = 0.44622027564184735, J01 = 0.3358\n",
            "it 32 : Jsur = 0.44609883874934414, J01 = 0.3358\n",
            "it 64 : Jsur = 0.44608006798699007, J01 = 0.3358\n",
            "it 128 : Jsur = 0.446077304139722, J01 = 0.3358\n",
            "[[0.66134166 0.66488805 0.6671951  0.66744976 0.66677723]\n",
            " [0.65435865 0.65072367 0.64825665 0.63705077 0.63061529]\n",
            " [0.59538377 0.62305632 0.62343419 0.62369639 0.62375163]\n",
            " [0.49318252 0.48856071 0.4127195  0.56147821 0.46351749]]\n",
            "[[0.64588552 0.64845269 0.6498246  0.64998368 0.6495902 ]\n",
            " [0.63923313 0.63642184 0.63386569 0.62281522 0.61666482]\n",
            " [0.59150327 0.60600191 0.61034908 0.61050438 0.61057591]\n",
            " [0.48405126 0.49534472 0.43637545 0.53180711 0.49337908]]\n"
          ]
        },
        {
          "output_type": "display_data",
          "data": {
            "image/png": "[encoded data removed]",
            "text/plain": [
              "<Figure size 576x360 with 2 Axes>"
            ]
          },
          "metadata": {
            "needs_background": "light"
          }
        },
        {
          "output_type": "display_data",
          "data": {
            "image/png": "[encoded data removed]",
            "text/plain": [
              "<Figure size 576x360 with 2 Axes>"
            ]
          },
          "metadata": {
            "needs_background": "light"
          }
        }
      ]
    },
    {
      "cell_type": "code",
      "source": [
        "NNV1= [0.64588552, 0.64845269, 0.6498246,  0.64998368, 0.6495902 ]\n",
        "NNV2= [0.63923313, 0.63642184, 0.63386569, 0.62281522, 0.61666482]\n",
        "print(\"Max AUC from NN from layer=1 is : \", max(NNV1))\n",
        "print(\"Max AUC from NN from layer=2 is : \", max(NNV2))"
      ],
      "metadata": {
        "colab": {
          "base_uri": "https://localhost:8080/"
        },
        "id": "QccjfZ7LKTfS",
        "outputId": "e3470e70-99be-4feb-92fb-16912190e54c"
      },
      "execution_count": null,
      "outputs": [
        {
          "output_type": "stream",
          "name": "stdout",
          "text": [
            "Max AUC from NN from layer=1 is :  0.64998368\n",
            "Max AUC from NN from layer=2 is :  0.63923313\n"
          ]
        }
      ]
    },
    {
      "cell_type": "code",
      "source": [
        "layers = [1, 2, 4, 6]\n",
        "nodes = [5, 10, 25, 50, 100]\n",
        "input = [14]\n",
        "output = [2]\n",
        "\n",
        "tr_auc = np.zeros((len(layers),len(nodes)))\n",
        "va_auc = np.zeros((len(layers),len(nodes)))\n",
        "\n",
        "\n",
        "for n,k in enumerate(layers):\n",
        "    for i, j in enumerate(nodes):\n",
        "        \n",
        "        size = input+k*[j]+output\n",
        "        print(size)\n",
        "\n",
        "        nn = ml.nnet.nnetClassify()\n",
        "        nn.setActivation('htangent')\n",
        "        nn.init_weights(size, 'random', XtS, Yt) # as many layers nodes you want\n",
        "\n",
        "        nn.train(XtS, Yt, stopTol=1e-8, stepsize=.25, stopIter=300)\n",
        "        tr_auc[n][i] = nn.auc(XtS, Yt)\n",
        "        va_auc[n][i] = nn.auc(XvS, Yva)\n",
        "\n",
        "print(tr_auc)\n",
        "print(va_auc)\n",
        "\n",
        "f, ax = plt.subplots(1, 1, figsize=(8, 5))\n",
        "cax = ax.matshow(tr_auc, interpolation='nearest')\n",
        "f.colorbar(cax)\n",
        "ax.set_xticklabels(['']+nodes)\n",
        "ax.set_yticklabels(['']+layers)\n",
        "plt.show()\n",
        "\n",
        "f, ax = plt.subplots(1, 1, figsize=(8, 5))\n",
        "cax = ax.matshow(va_auc, interpolation='nearest')\n",
        "f.colorbar(cax)\n",
        "ax.set_xticklabels(['']+nodes)\n",
        "ax.set_yticklabels(['']+layers)\n",
        "plt.show()\n",
        "\n",
        "\n",
        " \n",
        "\n",
        "      "
      ],
      "metadata": {
        "colab": {
          "base_uri": "https://localhost:8080/",
          "height": 1000
        },
        "id": "WUzC-ONyL6yA",
        "outputId": "1c7bc605-cf62-4c32-8063-f9cf076af350"
      },
      "execution_count": null,
      "outputs": [
        {
          "output_type": "stream",
          "name": "stdout",
          "text": [
            "[14, 5, 2]\n",
            "it 1 : Jsur = 0.42521794619053616, J01 = 0.3226\n",
            "it 2 : Jsur = 0.4171680939271063, J01 = 0.3176\n",
            "it 4 : Jsur = 0.41237243608893887, J01 = 0.3128\n",
            "it 8 : Jsur = 0.4084031501373391, J01 = 0.309\n",
            "it 16 : Jsur = 0.40543606229633544, J01 = 0.3058\n",
            "it 32 : Jsur = 0.402773204792695, J01 = 0.3054\n",
            "it 64 : Jsur = 0.40015753835630585, J01 = 0.3002\n",
            "it 128 : Jsur = 0.3979803849557385, J01 = 0.2952\n",
            "it 256 : Jsur = 0.3966162890371913, J01 = 0.2934\n",
            "[14, 10, 2]\n",
            "it 1 : Jsur = 0.42630043434797116, J01 = 0.3268\n",
            "it 2 : Jsur = 0.4176660301535442, J01 = 0.3184\n",
            "it 4 : Jsur = 0.4122431049826274, J01 = 0.3136\n",
            "it 8 : Jsur = 0.4080978985278313, J01 = 0.3078\n",
            "it 16 : Jsur = 0.40505889670740014, J01 = 0.3018\n",
            "it 32 : Jsur = 0.40285925545053997, J01 = 0.2998\n",
            "it 64 : Jsur = 0.40077457924925003, J01 = 0.2998\n",
            "it 128 : Jsur = 0.3985482121815929, J01 = 0.296\n",
            "it 256 : Jsur = 0.3962062947088191, J01 = 0.294\n",
            "[14, 25, 2]\n",
            "it 1 : Jsur = 0.42481366240888757, J01 = 0.3192\n",
            "it 2 : Jsur = 0.41822380252816654, J01 = 0.3172\n",
            "it 4 : Jsur = 0.4111960966357718, J01 = 0.3128\n",
            "it 8 : Jsur = 0.40649353864515436, J01 = 0.306\n",
            "it 16 : Jsur = 0.40320769729000555, J01 = 0.3032\n",
            "it 32 : Jsur = 0.40056868389551964, J01 = 0.3\n",
            "it 64 : Jsur = 0.3985558257568441, J01 = 0.2996\n",
            "it 128 : Jsur = 0.39562053903493044, J01 = 0.2956\n",
            "it 256 : Jsur = 0.3924467922038735, J01 = 0.2922\n",
            "[14, 50, 2]\n",
            "it 1 : Jsur = 0.42535340801938293, J01 = 0.3162\n",
            "it 2 : Jsur = 0.4183009153812542, J01 = 0.3174\n",
            "it 4 : Jsur = 0.41139235693303433, J01 = 0.3114\n",
            "it 8 : Jsur = 0.40719096016625006, J01 = 0.3058\n",
            "it 16 : Jsur = 0.404453578590759, J01 = 0.3028\n",
            "it 32 : Jsur = 0.4016332045409696, J01 = 0.3\n",
            "it 64 : Jsur = 0.3978884610393708, J01 = 0.2966\n",
            "it 128 : Jsur = 0.3948248444954641, J01 = 0.2924\n",
            "it 256 : Jsur = 0.39304977187154555, J01 = 0.2922\n",
            "[14, 100, 2]\n",
            "it 1 : Jsur = 0.42467042975721614, J01 = 0.3128\n",
            "it 2 : Jsur = 0.4181566558938943, J01 = 0.3186\n",
            "it 4 : Jsur = 0.41199207468389776, J01 = 0.3122\n",
            "it 8 : Jsur = 0.4073942185907402, J01 = 0.3032\n",
            "it 16 : Jsur = 0.4046300333304916, J01 = 0.3012\n",
            "it 32 : Jsur = 0.4023791608581538, J01 = 0.2998\n",
            "it 64 : Jsur = 0.39841060441813014, J01 = 0.2966\n",
            "it 128 : Jsur = 0.3949273432809225, J01 = 0.292\n",
            "it 256 : Jsur = 0.3924947417206053, J01 = 0.2906\n",
            "[14, 5, 5, 2]\n",
            "it 1 : Jsur = 0.4583770549528572, J01 = 0.3358\n",
            "it 2 : Jsur = 0.45199487796488613, J01 = 0.3358\n",
            "it 4 : Jsur = 0.44818734437325036, J01 = 0.3358\n",
            "it 8 : Jsur = 0.44672734067243147, J01 = 0.3358\n",
            "it 16 : Jsur = 0.4462170105849657, J01 = 0.3358\n",
            "it 32 : Jsur = 0.4460492487657184, J01 = 0.3358\n",
            "it 64 : Jsur = 0.40551427058235395, J01 = 0.3026\n",
            "it 128 : Jsur = 0.4003498705889616, J01 = 0.2982\n",
            "it 256 : Jsur = 0.39597386132005136, J01 = 0.2936\n",
            "[14, 10, 10, 2]\n",
            "it 1 : Jsur = 0.45837705215521957, J01 = 0.3358\n",
            "it 2 : Jsur = 0.45199491606497105, J01 = 0.3358\n",
            "it 4 : Jsur = 0.44818726440489465, J01 = 0.3358\n",
            "it 8 : Jsur = 0.44671012338466526, J01 = 0.3358\n",
            "it 16 : Jsur = 0.40992147656044337, J01 = 0.302\n",
            "it 32 : Jsur = 0.40450668780684224, J01 = 0.302\n",
            "it 64 : Jsur = 0.4011731670697345, J01 = 0.299\n",
            "it 128 : Jsur = 0.3981891914765661, J01 = 0.2982\n",
            "it 256 : Jsur = 0.3952073363618434, J01 = 0.2926\n",
            "[14, 25, 25, 2]\n",
            "it 1 : Jsur = 0.45837704906053134, J01 = 0.3358\n",
            "it 2 : Jsur = 0.4519563469086127, J01 = 0.3358\n",
            "it 4 : Jsur = 0.418061471487946, J01 = 0.3118\n",
            "it 8 : Jsur = 0.4112284095996129, J01 = 0.3086\n",
            "it 16 : Jsur = 0.4064568844702486, J01 = 0.3024\n",
            "it 32 : Jsur = 0.40296617265534995, J01 = 0.3024\n",
            "it 64 : Jsur = 0.3988439075967476, J01 = 0.298\n",
            "it 128 : Jsur = 0.395213952149519, J01 = 0.2956\n",
            "it 256 : Jsur = 0.39128132364452356, J01 = 0.2902\n",
            "[14, 50, 50, 2]\n",
            "it 1 : Jsur = 0.45831726779753806, J01 = 0.3358\n",
            "it 2 : Jsur = 0.422248485143778, J01 = 0.314\n",
            "it 4 : Jsur = 0.41517069315719546, J01 = 0.3124\n",
            "it 8 : Jsur = 0.4097960040142174, J01 = 0.3066\n",
            "it 16 : Jsur = 0.40559622455610395, J01 = 0.3044\n",
            "it 32 : Jsur = 0.4026832932051367, J01 = 0.3012\n",
            "it 64 : Jsur = 0.3996870389959521, J01 = 0.3006\n",
            "it 128 : Jsur = 0.3959048878994832, J01 = 0.2958\n",
            "it 256 : Jsur = 0.39180813325349323, J01 = 0.2912\n",
            "[14, 100, 100, 2]\n",
            "it 1 : Jsur = 0.424813622783331, J01 = 0.313\n",
            "it 2 : Jsur = 0.4198733063677927, J01 = 0.3138\n",
            "it 4 : Jsur = 0.41406047287120784, J01 = 0.3112\n",
            "it 8 : Jsur = 0.40918537910424696, J01 = 0.3058\n",
            "it 16 : Jsur = 0.4051849210781147, J01 = 0.3034\n",
            "it 32 : Jsur = 0.40217115371347645, J01 = 0.3004\n",
            "it 64 : Jsur = 0.39883754557009116, J01 = 0.2988\n",
            "it 128 : Jsur = 0.39495104622023214, J01 = 0.2916\n",
            "it 256 : Jsur = 0.3915893816376939, J01 = 0.2884\n",
            "[14, 5, 5, 5, 5, 2]\n",
            "it 1 : Jsur = 0.4583770476161234, J01 = 0.3358\n",
            "it 2 : Jsur = 0.45199486535399164, J01 = 0.3358\n",
            "it 4 : Jsur = 0.4481873398978121, J01 = 0.3358\n",
            "it 8 : Jsur = 0.4467273771129067, J01 = 0.3358\n",
            "it 16 : Jsur = 0.4462173651184614, J01 = 0.3358\n",
            "it 32 : Jsur = 0.44609837186265106, J01 = 0.3358\n",
            "it 64 : Jsur = 0.4460800026510471, J01 = 0.3358\n",
            "it 128 : Jsur = 0.44607729381518185, J01 = 0.3358\n",
            "[14, 10, 10, 10, 10, 2]\n",
            "it 1 : Jsur = 0.45837704945115454, J01 = 0.3358\n",
            "it 2 : Jsur = 0.4519948655179922, J01 = 0.3358\n",
            "it 4 : Jsur = 0.44818733993241255, J01 = 0.3358\n",
            "it 8 : Jsur = 0.44672737712276905, J01 = 0.3358\n",
            "it 16 : Jsur = 0.44621736512265014, J01 = 0.3358\n",
            "it 32 : Jsur = 0.44609837186447393, J01 = 0.3358\n",
            "it 64 : Jsur = 0.4460800026513035, J01 = 0.3358\n",
            "it 128 : Jsur = 0.44607729381519273, J01 = 0.3358\n",
            "[14, 25, 25, 25, 25, 2]\n",
            "it 1 : Jsur = 0.4583770517571421, J01 = 0.3358\n",
            "it 2 : Jsur = 0.4519948657026562, J01 = 0.3358\n",
            "it 4 : Jsur = 0.4481873399812406, J01 = 0.3358\n",
            "it 8 : Jsur = 0.4467273771382903, J01 = 0.3358\n",
            "it 16 : Jsur = 0.44621736512967053, J01 = 0.3358\n",
            "it 32 : Jsur = 0.4460983718676921, J01 = 0.3358\n",
            "it 64 : Jsur = 0.44608000265173015, J01 = 0.3358\n",
            "it 128 : Jsur = 0.4460772938151793, J01 = 0.3358\n",
            "[14, 50, 50, 50, 50, 2]\n",
            "it 1 : Jsur = 0.45837705505176457, J01 = 0.3358\n",
            "it 2 : Jsur = 0.4519948656323115, J01 = 0.3358\n",
            "it 4 : Jsur = 0.4481873400887631, J01 = 0.3358\n",
            "it 8 : Jsur = 0.44672737719556344, J01 = 0.3358\n",
            "it 16 : Jsur = 0.4462173651611697, J01 = 0.3358\n",
            "it 32 : Jsur = 0.4460983718850437, J01 = 0.3358\n",
            "it 64 : Jsur = 0.44608000265455255, J01 = 0.3358\n",
            "it 128 : Jsur = 0.4460772938156163, J01 = 0.3358\n",
            "[14, 100, 100, 100, 100, 2]\n",
            "it 1 : Jsur = 0.4583770671999311, J01 = 0.3358\n",
            "it 2 : Jsur = 0.451994866780718, J01 = 0.3358\n",
            "it 4 : Jsur = 0.44818734025327583, J01 = 0.3358\n",
            "it 8 : Jsur = 0.44672737724688943, J01 = 0.3358\n",
            "it 16 : Jsur = 0.44621736517916316, J01 = 0.3358\n",
            "it 32 : Jsur = 0.4460983718937533, J01 = 0.3358\n",
            "it 64 : Jsur = 0.4460800026540834, J01 = 0.3358\n",
            "it 128 : Jsur = 0.44607729381305145, J01 = 0.3358\n",
            "[14, 5, 5, 5, 5, 5, 5, 2]\n",
            "it 1 : Jsur = 0.4583770477600723, J01 = 0.3358\n",
            "it 2 : Jsur = 0.45199486535607136, J01 = 0.3358\n",
            "it 4 : Jsur = 0.4481873399093607, J01 = 0.3358\n",
            "it 8 : Jsur = 0.4467273771162505, J01 = 0.3358\n",
            "it 16 : Jsur = 0.4462173651204039, J01 = 0.3358\n",
            "it 32 : Jsur = 0.4460983718633266, J01 = 0.3358\n",
            "it 64 : Jsur = 0.4460800026511376, J01 = 0.3358\n",
            "it 128 : Jsur = 0.4460772938151844, J01 = 0.3358\n",
            "[14, 10, 10, 10, 10, 10, 10, 2]\n",
            "it 1 : Jsur = 0.458377048018003, J01 = 0.3358\n",
            "it 2 : Jsur = 0.45199486535650574, J01 = 0.3358\n",
            "it 4 : Jsur = 0.4481873399057024, J01 = 0.3358\n",
            "it 8 : Jsur = 0.4467273771178532, J01 = 0.3358\n",
            "it 16 : Jsur = 0.44621736512102705, J01 = 0.3358\n",
            "it 32 : Jsur = 0.4460983718642098, J01 = 0.3358\n",
            "it 64 : Jsur = 0.4460800026512825, J01 = 0.3358\n",
            "it 128 : Jsur = 0.4460772938152034, J01 = 0.3358\n",
            "[14, 25, 25, 25, 25, 25, 25, 2]\n",
            "it 1 : Jsur = 0.4583770509144796, J01 = 0.3358\n",
            "it 2 : Jsur = 0.45199486546796497, J01 = 0.3358\n",
            "it 4 : Jsur = 0.44818733997434584, J01 = 0.3358\n",
            "it 8 : Jsur = 0.44672737714880206, J01 = 0.3358\n",
            "it 16 : Jsur = 0.44621736513672694, J01 = 0.3358\n",
            "it 32 : Jsur = 0.446098371872734, J01 = 0.3358\n",
            "it 64 : Jsur = 0.4460800026526078, J01 = 0.3358\n",
            "it 128 : Jsur = 0.4460772938153799, J01 = 0.3358\n",
            "[14, 50, 50, 50, 50, 50, 50, 2]\n",
            "it 1 : Jsur = 0.4583770560671681, J01 = 0.3358\n",
            "it 2 : Jsur = 0.4519948655466721, J01 = 0.3358\n",
            "it 4 : Jsur = 0.44818734007413313, J01 = 0.3358\n",
            "it 8 : Jsur = 0.4467273772103279, J01 = 0.3358\n",
            "it 16 : Jsur = 0.44621736516789123, J01 = 0.3358\n",
            "it 32 : Jsur = 0.44609837189196166, J01 = 0.3358\n",
            "it 64 : Jsur = 0.44608000265562786, J01 = 0.3358\n",
            "it 128 : Jsur = 0.44607729381578104, J01 = 0.3358\n",
            "[14, 100, 100, 100, 100, 100, 100, 2]\n",
            "it 1 : Jsur = 0.4583770639819657, J01 = 0.3358\n",
            "it 2 : Jsur = 0.4519948663834762, J01 = 0.3358\n",
            "it 4 : Jsur = 0.44818734023291307, J01 = 0.3358\n",
            "it 8 : Jsur = 0.4467273772441513, J01 = 0.3358\n",
            "it 16 : Jsur = 0.4462173651810081, J01 = 0.3358\n",
            "it 32 : Jsur = 0.446098371895612, J01 = 0.3358\n",
            "it 64 : Jsur = 0.44608000265615483, J01 = 0.3358\n",
            "it 128 : Jsur = 0.44607729381585387, J01 = 0.3358\n",
            "[[0.69035237 0.69195012 0.69727028 0.69613272 0.69550951]\n",
            " [0.68949709 0.68882133 0.69915283 0.69978967 0.69825863]\n",
            " [0.59280126 0.44736798 0.45590821 0.54949606 0.56721194]\n",
            " [0.52364535 0.54225838 0.57214938 0.56529603 0.50071073]]\n",
            "[[0.65494996 0.65607836 0.65980039 0.65676178 0.65824482]\n",
            " [0.65552205 0.65410391 0.66118629 0.66161364 0.65896141]\n",
            " [0.57381878 0.43646764 0.44599722 0.53935109 0.55011592]\n",
            " [0.53912193 0.53588671 0.55927094 0.56933407 0.50440173]]\n"
          ]
        },
        {
          "output_type": "display_data",
          "data": {
            "image/png": "[encoded data removed]",
            "text/plain": [
              "<Figure size 576x360 with 2 Axes>"
            ]
          },
          "metadata": {
            "needs_background": "light"
          }
        },
        {
          "output_type": "display_data",
          "data": {
            "image/png": "[encoded data removed]",
            "text/plain": [
              "<Figure size 576x360 with 2 Axes>"
            ]
          },
          "metadata": {
            "needs_background": "light"
          }
        }
      ]
    },
    {
      "cell_type": "code",
      "source": [
        "NNV1= [0.65494996, 0.65607836, 0.65980039, 0.65676178, 0.65824482]\n",
        "NNV2 = [0.65552205, 0.65410391, 0.66118629, 0.66161364, 0.65896141]\n",
        "print(\"Max AUC from NN from layer=1 is : \", max(NNV1))\n",
        "print(\"Max AUC from NN from layer=2 is : \", max(NNV2))"
      ],
      "metadata": {
        "colab": {
          "base_uri": "https://localhost:8080/"
        },
        "id": "I-zDQ5f1BbuI",
        "outputId": "3e299e3a-8dc7-461b-8c5c-7e55eede751f"
      },
      "execution_count": null,
      "outputs": [
        {
          "output_type": "stream",
          "name": "stdout",
          "text": [
            "Max AUC from NN from layer=1 is :  0.65980039\n",
            "Max AUC from NN from layer=2 is :  0.66161364\n"
          ]
        }
      ]
    },
    {
      "cell_type": "markdown",
      "source": [
        "The Htangent function is better for validation AUC and training AUC"
      ],
      "metadata": {
        "id": "FiFhiHj-72FO"
      }
    },
    {
      "cell_type": "markdown",
      "source": [
        "#Q4.3"
      ],
      "metadata": {
        "id": "aFDz9ZpF8J8m"
      }
    },
    {
      "cell_type": "markdown",
      "source": [
        "The maximum value of AUC from Neural Network is 0.66161364 that is the maximum value out of all the maximum values obtained so far hence that is the final model for this data. \n",
        "Parameters are\n",
        "Neural Network, Activation('htangent'), Number of hidden layers = 2 and numbers of nodes per layer = 50"
      ],
      "metadata": {
        "id": "QqwcwSWaPkx1"
      }
    },
    {
      "cell_type": "code",
      "source": [
        "Xtest= np.genfromtxt('/content/drive/MyDrive/HW4/X_test.txt',delimiter=None)"
      ],
      "metadata": {
        "id": "mCU_J8luYJoS"
      },
      "execution_count": null,
      "outputs": []
    },
    {
      "cell_type": "markdown",
      "source": [
        "Score: 0.72755 and Kaggle Name is = Eesha Tur Razia Babar"
      ],
      "metadata": {
        "id": "h64w9enVLfRl"
      }
    },
    {
      "cell_type": "markdown",
      "source": [
        "Even though the maximum AUC I obtained using train and validate was using neural network but the maximum value of AUC, I obtained on Kaggle data is using decision trees, maxdepth= 30, minparent= 64, minleaf=1. Hence, this is final recommended model from my side for kaggle data"
      ],
      "metadata": {
        "id": "o1FpzEetLpJL"
      }
    },
    {
      "cell_type": "code",
      "source": [
        "Xte= np.genfromtxt('/content/drive/MyDrive/HW4/X_test.txt',delimiter=None)\n",
        "learner = ml.dtree.treeClassify(X, Y, maxDepth=30, minParent=64, minLeaf=1)\n",
        "Yte = np.vstack((np.arange(Xte.shape[0]), learner.predictSoft(Xte)[:,1])).T\n",
        "np.savetxt('Y_submit.txt', Yte, '%d, %.2f', header='ID,Prob1', comments='', delimiter=',')"
      ],
      "metadata": {
        "id": "XZXJmbRlqBMl"
      },
      "execution_count": null,
      "outputs": []
    },
    {
      "cell_type": "markdown",
      "source": [
        "#Collaborations"
      ],
      "metadata": {
        "id": "ToF4PimqZ0y5"
      }
    },
    {
      "cell_type": "markdown",
      "source": [
        "I took help from TAs and used piazza to remove my confusions"
      ],
      "metadata": {
        "id": "RiaKKSpMZ90f"
      }
    }
  ],
  "metadata": {
    "colab": {
      "collapsed_sections": [],
      "name": "HW",
      "provenance": []
    },
    "kernelspec": {
      "display_name": "Python 3",
      "name": "python3"
    },
    "language_info": {
      "name": "python"
    }
  },
  "nbformat": 4,
  "nbformat_minor": 0
}